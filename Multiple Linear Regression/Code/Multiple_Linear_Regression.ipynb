{
 "cells": [
  {
   "cell_type": "markdown",
   "id": "c5653393",
   "metadata": {},
   "source": [
    "## Multiple Linear Regression - Predicting Profit of 50Startups"
   ]
  },
  {
   "cell_type": "code",
   "execution_count": 1,
   "id": "51d4ede0",
   "metadata": {},
   "outputs": [],
   "source": [
    "import pandas as pd \n",
    "import numpy as np \n",
    "import matplotlib.pyplot as plt\n",
    "import seaborn as sns"
   ]
  },
  {
   "cell_type": "code",
   "execution_count": 2,
   "id": "a5848945",
   "metadata": {},
   "outputs": [],
   "source": [
    "startup_df=pd.read_csv('50_Startups.csv')"
   ]
  },
  {
   "cell_type": "markdown",
   "id": "382b767d",
   "metadata": {},
   "source": [
    "### EDA"
   ]
  },
  {
   "cell_type": "code",
   "execution_count": 3,
   "id": "63e14169",
   "metadata": {},
   "outputs": [
    {
     "data": {
      "text/html": [
       "<div>\n",
       "<style scoped>\n",
       "    .dataframe tbody tr th:only-of-type {\n",
       "        vertical-align: middle;\n",
       "    }\n",
       "\n",
       "    .dataframe tbody tr th {\n",
       "        vertical-align: top;\n",
       "    }\n",
       "\n",
       "    .dataframe thead th {\n",
       "        text-align: right;\n",
       "    }\n",
       "</style>\n",
       "<table border=\"1\" class=\"dataframe\">\n",
       "  <thead>\n",
       "    <tr style=\"text-align: right;\">\n",
       "      <th></th>\n",
       "      <th>R&amp;D Spend</th>\n",
       "      <th>Administration</th>\n",
       "      <th>Marketing Spend</th>\n",
       "      <th>State</th>\n",
       "      <th>Profit</th>\n",
       "    </tr>\n",
       "  </thead>\n",
       "  <tbody>\n",
       "    <tr>\n",
       "      <th>0</th>\n",
       "      <td>165349.20</td>\n",
       "      <td>136897.80</td>\n",
       "      <td>471784.10</td>\n",
       "      <td>New York</td>\n",
       "      <td>192261.83</td>\n",
       "    </tr>\n",
       "    <tr>\n",
       "      <th>1</th>\n",
       "      <td>162597.70</td>\n",
       "      <td>151377.59</td>\n",
       "      <td>443898.53</td>\n",
       "      <td>California</td>\n",
       "      <td>191792.06</td>\n",
       "    </tr>\n",
       "    <tr>\n",
       "      <th>2</th>\n",
       "      <td>153441.51</td>\n",
       "      <td>101145.55</td>\n",
       "      <td>407934.54</td>\n",
       "      <td>Florida</td>\n",
       "      <td>191050.39</td>\n",
       "    </tr>\n",
       "    <tr>\n",
       "      <th>3</th>\n",
       "      <td>144372.41</td>\n",
       "      <td>118671.85</td>\n",
       "      <td>383199.62</td>\n",
       "      <td>New York</td>\n",
       "      <td>182901.99</td>\n",
       "    </tr>\n",
       "    <tr>\n",
       "      <th>4</th>\n",
       "      <td>142107.34</td>\n",
       "      <td>91391.77</td>\n",
       "      <td>366168.42</td>\n",
       "      <td>Florida</td>\n",
       "      <td>166187.94</td>\n",
       "    </tr>\n",
       "  </tbody>\n",
       "</table>\n",
       "</div>"
      ],
      "text/plain": [
       "   R&D Spend  Administration  Marketing Spend       State     Profit\n",
       "0  165349.20       136897.80        471784.10    New York  192261.83\n",
       "1  162597.70       151377.59        443898.53  California  191792.06\n",
       "2  153441.51       101145.55        407934.54     Florida  191050.39\n",
       "3  144372.41       118671.85        383199.62    New York  182901.99\n",
       "4  142107.34        91391.77        366168.42     Florida  166187.94"
      ]
     },
     "execution_count": 3,
     "metadata": {},
     "output_type": "execute_result"
    }
   ],
   "source": [
    "startup_df.head()"
   ]
  },
  {
   "cell_type": "code",
   "execution_count": 4,
   "id": "561018b1",
   "metadata": {},
   "outputs": [
    {
     "name": "stdout",
     "output_type": "stream",
     "text": [
      "<class 'pandas.core.frame.DataFrame'>\n",
      "RangeIndex: 50 entries, 0 to 49\n",
      "Data columns (total 5 columns):\n",
      " #   Column           Non-Null Count  Dtype  \n",
      "---  ------           --------------  -----  \n",
      " 0   R&D Spend        50 non-null     float64\n",
      " 1   Administration   50 non-null     float64\n",
      " 2   Marketing Spend  50 non-null     float64\n",
      " 3   State            50 non-null     object \n",
      " 4   Profit           50 non-null     float64\n",
      "dtypes: float64(4), object(1)\n",
      "memory usage: 2.1+ KB\n"
     ]
    }
   ],
   "source": [
    "startup_df.info()"
   ]
  },
  {
   "cell_type": "code",
   "execution_count": 5,
   "id": "c35f0943",
   "metadata": {},
   "outputs": [
    {
     "data": {
      "text/plain": [
       "(50, 5)"
      ]
     },
     "execution_count": 5,
     "metadata": {},
     "output_type": "execute_result"
    }
   ],
   "source": [
    "startup_df.shape"
   ]
  },
  {
   "cell_type": "markdown",
   "id": "6a177968",
   "metadata": {},
   "source": [
    "### Check for Duplicates and empty rows"
   ]
  },
  {
   "cell_type": "code",
   "execution_count": 6,
   "id": "639f0ced",
   "metadata": {},
   "outputs": [
    {
     "data": {
      "text/plain": [
       "R&D Spend          0\n",
       "Administration     0\n",
       "Marketing Spend    0\n",
       "State              0\n",
       "Profit             0\n",
       "dtype: int64"
      ]
     },
     "execution_count": 6,
     "metadata": {},
     "output_type": "execute_result"
    }
   ],
   "source": [
    "startup_df.isnull().sum()"
   ]
  },
  {
   "cell_type": "code",
   "execution_count": 7,
   "id": "09e94adb",
   "metadata": {},
   "outputs": [
    {
     "data": {
      "text/plain": [
       "0"
      ]
     },
     "execution_count": 7,
     "metadata": {},
     "output_type": "execute_result"
    }
   ],
   "source": [
    "startup_df.duplicated().sum()"
   ]
  },
  {
   "cell_type": "markdown",
   "id": "61a41937",
   "metadata": {},
   "source": [
    "### Check for Outliers"
   ]
  },
  {
   "cell_type": "code",
   "execution_count": 8,
   "id": "95a347e1",
   "metadata": {},
   "outputs": [
    {
     "data": {
      "image/png": "[encoded data removed]",
      "text/plain": [
       "<Figure size 432x288 with 4 Axes>"
      ]
     },
     "metadata": {
      "needs_background": "light"
     },
     "output_type": "display_data"
    }
   ],
   "source": [
    "startup_df.plot(kind='box',subplots=True)\n",
    "plt.tight_layout();"
   ]
  },
  {
   "cell_type": "markdown",
   "id": "64a35608",
   "metadata": {},
   "source": [
    "### Corelation analysis"
   ]
  },
  {
   "cell_type": "code",
   "execution_count": 9,
   "id": "3ecb05d4",
   "metadata": {},
   "outputs": [
    {
     "data": {
      "text/html": [
       "<div>\n",
       "<style scoped>\n",
       "    .dataframe tbody tr th:only-of-type {\n",
       "        vertical-align: middle;\n",
       "    }\n",
       "\n",
       "    .dataframe tbody tr th {\n",
       "        vertical-align: top;\n",
       "    }\n",
       "\n",
       "    .dataframe thead th {\n",
       "        text-align: right;\n",
       "    }\n",
       "</style>\n",
       "<table border=\"1\" class=\"dataframe\">\n",
       "  <thead>\n",
       "    <tr style=\"text-align: right;\">\n",
       "      <th></th>\n",
       "      <th>R&amp;D Spend</th>\n",
       "      <th>Administration</th>\n",
       "      <th>Marketing Spend</th>\n",
       "      <th>Profit</th>\n",
       "    </tr>\n",
       "  </thead>\n",
       "  <tbody>\n",
       "    <tr>\n",
       "      <th>R&amp;D Spend</th>\n",
       "      <td>1.0000</td>\n",
       "      <td>0.2420</td>\n",
       "      <td>0.7242</td>\n",
       "      <td>0.9729</td>\n",
       "    </tr>\n",
       "    <tr>\n",
       "      <th>Administration</th>\n",
       "      <td>0.2420</td>\n",
       "      <td>1.0000</td>\n",
       "      <td>-0.0322</td>\n",
       "      <td>0.2007</td>\n",
       "    </tr>\n",
       "    <tr>\n",
       "      <th>Marketing Spend</th>\n",
       "      <td>0.7242</td>\n",
       "      <td>-0.0322</td>\n",
       "      <td>1.0000</td>\n",
       "      <td>0.7478</td>\n",
       "    </tr>\n",
       "    <tr>\n",
       "      <th>Profit</th>\n",
       "      <td>0.9729</td>\n",
       "      <td>0.2007</td>\n",
       "      <td>0.7478</td>\n",
       "      <td>1.0000</td>\n",
       "    </tr>\n",
       "  </tbody>\n",
       "</table>\n",
       "</div>"
      ],
      "text/plain": [
       "                 R&D Spend  Administration  Marketing Spend  Profit\n",
       "R&D Spend           1.0000          0.2420           0.7242  0.9729\n",
       "Administration      0.2420          1.0000          -0.0322  0.2007\n",
       "Marketing Spend     0.7242         -0.0322           1.0000  0.7478\n",
       "Profit              0.9729          0.2007           0.7478  1.0000"
      ]
     },
     "execution_count": 9,
     "metadata": {},
     "output_type": "execute_result"
    }
   ],
   "source": [
    "corelation=np.round(startup_df.corr(),4)\n",
    "corelation"
   ]
  },
  {
   "cell_type": "code",
   "execution_count": 10,
   "id": "a664b0b8",
   "metadata": {},
   "outputs": [
    {
     "data": {
      "image/png": "[encoded data removed]",
      "text/plain": [
       "<Figure size 432x288 with 2 Axes>"
      ]
     },
     "metadata": {
      "needs_background": "light"
     },
     "output_type": "display_data"
    }
   ],
   "source": [
    "sns.heatmap(data=corelation,vmax=1,vmin=-1,annot=True,mask=np.triu(corelation,1),cmap='plasma');"
   ]
  },
  {
   "cell_type": "markdown",
   "id": "0f8d610f",
   "metadata": {},
   "source": [
    "### Model Building Default - Without any changes for data"
   ]
  },
  {
   "cell_type": "code",
   "execution_count": 11,
   "id": "432bd8e2",
   "metadata": {},
   "outputs": [
    {
     "name": "stdout",
     "output_type": "stream",
     "text": [
      "                            OLS Regression Results                            \n",
      "==============================================================================\n",
      "Dep. Variable:                     PT   R-squared:                       0.951\n",
      "Model:                            OLS   Adj. R-squared:                  0.945\n",
      "Method:                 Least Squares   F-statistic:                     169.9\n",
      "Date:                Mon, 06 Mar 2023   Prob (F-statistic):           1.34e-27\n",
      "Time:                        11:38:18   Log-Likelihood:                -525.38\n",
      "No. Observations:                  50   AIC:                             1063.\n",
      "Df Residuals:                      44   BIC:                             1074.\n",
      "Df Model:                           5                                         \n",
      "Covariance Type:            nonrobust                                         \n",
      "==================================================================================\n",
      "                     coef    std err          t      P>|t|      [0.025      0.975]\n",
      "----------------------------------------------------------------------------------\n",
      "Intercept       5.013e+04   6884.820      7.281      0.000    3.62e+04     6.4e+04\n",
      "ST[T.Florida]    198.7888   3371.007      0.059      0.953   -6595.030    6992.607\n",
      "ST[T.New York]   -41.8870   3256.039     -0.013      0.990   -6604.003    6520.229\n",
      "RD                 0.8060      0.046     17.369      0.000       0.712       0.900\n",
      "AD                -0.0270      0.052     -0.517      0.608      -0.132       0.078\n",
      "MS                 0.0270      0.017      1.574      0.123      -0.008       0.062\n",
      "==============================================================================\n",
      "Omnibus:                       14.782   Durbin-Watson:                   1.283\n",
      "Prob(Omnibus):                  0.001   Jarque-Bera (JB):               21.266\n",
      "Skew:                          -0.948   Prob(JB):                     2.41e-05\n",
      "Kurtosis:                       5.572   Cond. No.                     1.45e+06\n",
      "==============================================================================\n",
      "\n",
      "Notes:\n",
      "[1] Standard Errors assume that the covariance matrix of the errors is correctly specified.\n",
      "[2] The condition number is large, 1.45e+06. This might indicate that there are\n",
      "strong multicollinearity or other numerical problems.\n"
     ]
    }
   ],
   "source": [
    "from statsmodels.formula.api import ols\n",
    "startup_df=startup_df.rename({\"R&D Spend\":\"RD\",\"Administration\":\"AD\",\"Marketing Spend\":\"MS\",\"State\":\"ST\",\"Profit\":\"PT\"},axis=1)\n",
    "formula='PT ~ RD+AD+MS+ST'\n",
    "model=ols(formula=formula,data=startup_df).fit()\n",
    "print(model.summary())"
   ]
  },
  {
   "cell_type": "code",
   "execution_count": 12,
   "id": "6c449c0d",
   "metadata": {},
   "outputs": [
    {
     "data": {
      "text/html": [
       "<div>\n",
       "<style scoped>\n",
       "    .dataframe tbody tr th:only-of-type {\n",
       "        vertical-align: middle;\n",
       "    }\n",
       "\n",
       "    .dataframe tbody tr th {\n",
       "        vertical-align: top;\n",
       "    }\n",
       "\n",
       "    .dataframe thead th {\n",
       "        text-align: right;\n",
       "    }\n",
       "</style>\n",
       "<table border=\"1\" class=\"dataframe\">\n",
       "  <thead>\n",
       "    <tr style=\"text-align: right;\">\n",
       "      <th></th>\n",
       "      <th>RD</th>\n",
       "      <th>AD</th>\n",
       "      <th>MS</th>\n",
       "      <th>ST</th>\n",
       "      <th>PT</th>\n",
       "    </tr>\n",
       "  </thead>\n",
       "  <tbody>\n",
       "    <tr>\n",
       "      <th>0</th>\n",
       "      <td>165349.20</td>\n",
       "      <td>136897.80</td>\n",
       "      <td>471784.10</td>\n",
       "      <td>New York</td>\n",
       "      <td>192261.83</td>\n",
       "    </tr>\n",
       "    <tr>\n",
       "      <th>1</th>\n",
       "      <td>162597.70</td>\n",
       "      <td>151377.59</td>\n",
       "      <td>443898.53</td>\n",
       "      <td>California</td>\n",
       "      <td>191792.06</td>\n",
       "    </tr>\n",
       "    <tr>\n",
       "      <th>2</th>\n",
       "      <td>153441.51</td>\n",
       "      <td>101145.55</td>\n",
       "      <td>407934.54</td>\n",
       "      <td>Florida</td>\n",
       "      <td>191050.39</td>\n",
       "    </tr>\n",
       "    <tr>\n",
       "      <th>3</th>\n",
       "      <td>144372.41</td>\n",
       "      <td>118671.85</td>\n",
       "      <td>383199.62</td>\n",
       "      <td>New York</td>\n",
       "      <td>182901.99</td>\n",
       "    </tr>\n",
       "    <tr>\n",
       "      <th>4</th>\n",
       "      <td>142107.34</td>\n",
       "      <td>91391.77</td>\n",
       "      <td>366168.42</td>\n",
       "      <td>Florida</td>\n",
       "      <td>166187.94</td>\n",
       "    </tr>\n",
       "  </tbody>\n",
       "</table>\n",
       "</div>"
      ],
      "text/plain": [
       "          RD         AD         MS          ST         PT\n",
       "0  165349.20  136897.80  471784.10    New York  192261.83\n",
       "1  162597.70  151377.59  443898.53  California  191792.06\n",
       "2  153441.51  101145.55  407934.54     Florida  191050.39\n",
       "3  144372.41  118671.85  383199.62    New York  182901.99\n",
       "4  142107.34   91391.77  366168.42     Florida  166187.94"
      ]
     },
     "execution_count": 12,
     "metadata": {},
     "output_type": "execute_result"
    }
   ],
   "source": [
    "startup_df.head()"
   ]
  },
  {
   "cell_type": "code",
   "execution_count": 13,
   "id": "34f99d63",
   "metadata": {},
   "outputs": [
    {
     "data": {
      "text/plain": [
       "Intercept         50125.343832\n",
       "ST[T.Florida]       198.788793\n",
       "ST[T.New York]      -41.887019\n",
       "RD                    0.806023\n",
       "AD                   -0.027004\n",
       "MS                    0.026980\n",
       "dtype: float64"
      ]
     },
     "execution_count": 13,
     "metadata": {},
     "output_type": "execute_result"
    }
   ],
   "source": [
    "model.params"
   ]
  },
  {
   "cell_type": "code",
   "execution_count": 14,
   "id": "af1b457e",
   "metadata": {},
   "outputs": [
    {
     "data": {
      "text/plain": [
       "Intercept         4.444178e-09\n",
       "ST[T.Florida]     9.532429e-01\n",
       "ST[T.New York]    9.897941e-01\n",
       "RD                2.578772e-21\n",
       "AD                6.077373e-01\n",
       "MS                1.226769e-01\n",
       "dtype: float64"
      ]
     },
     "execution_count": 14,
     "metadata": {},
     "output_type": "execute_result"
    }
   ],
   "source": [
    "model.pvalues"
   ]
  },
  {
   "cell_type": "code",
   "execution_count": 15,
   "id": "3e550035",
   "metadata": {},
   "outputs": [
    {
     "data": {
      "text/plain": [
       "0.9507524843355148"
      ]
     },
     "execution_count": 15,
     "metadata": {},
     "output_type": "execute_result"
    }
   ],
   "source": [
    "model.rsquared"
   ]
  },
  {
   "cell_type": "markdown",
   "id": "b3343171",
   "metadata": {},
   "source": [
    "### Check for homoscedascity equatity of variance - residulas vs fitted values"
   ]
  },
  {
   "cell_type": "code",
   "execution_count": 16,
   "id": "4a466b29",
   "metadata": {},
   "outputs": [
    {
     "data": {
      "image/png": "[encoded data removed]",
      "text/plain": [
       "<Figure size 432x288 with 1 Axes>"
      ]
     },
     "metadata": {
      "needs_background": "light"
     },
     "output_type": "display_data"
    }
   ],
   "source": [
    "plt.scatter(model.fittedvalues,model.resid)\n",
    "plt.xlabel('Fitted values')\n",
    "plt.ylabel('Residuals')\n",
    "plt.axhline(y=0,color='r',linestyle='-');"
   ]
  },
  {
   "cell_type": "markdown",
   "id": "54f5e4c1",
   "metadata": {},
   "source": [
    "### Check for normality of errors or residuals -qqplot"
   ]
  },
  {
   "cell_type": "code",
   "execution_count": 17,
   "id": "9183a0d1",
   "metadata": {},
   "outputs": [
    {
     "data": {
      "image/png": "[encoded data removed]",
      "text/plain": [
       "<Figure size 432x288 with 1 Axes>"
      ]
     },
     "metadata": {
      "needs_background": "light"
     },
     "output_type": "display_data"
    }
   ],
   "source": [
    "from statsmodels.api import qqplot\n",
    "qqplot(model.resid,line='s');"
   ]
  },
  {
   "cell_type": "code",
   "execution_count": 18,
   "id": "d312ad21",
   "metadata": {},
   "outputs": [
    {
     "data": {
      "text/plain": [
       "(array([49], dtype=int64),)"
      ]
     },
     "execution_count": 18,
     "metadata": {},
     "output_type": "execute_result"
    }
   ],
   "source": [
    "index_no=np.where(model.resid<-30000)\n",
    "index_no"
   ]
  },
  {
   "cell_type": "code",
   "execution_count": 19,
   "id": "7f1189b0",
   "metadata": {},
   "outputs": [
    {
     "data": {
      "text/html": [
       "<div>\n",
       "<style scoped>\n",
       "    .dataframe tbody tr th:only-of-type {\n",
       "        vertical-align: middle;\n",
       "    }\n",
       "\n",
       "    .dataframe tbody tr th {\n",
       "        vertical-align: top;\n",
       "    }\n",
       "\n",
       "    .dataframe thead th {\n",
       "        text-align: right;\n",
       "    }\n",
       "</style>\n",
       "<table border=\"1\" class=\"dataframe\">\n",
       "  <thead>\n",
       "    <tr style=\"text-align: right;\">\n",
       "      <th></th>\n",
       "      <th>RD</th>\n",
       "      <th>AD</th>\n",
       "      <th>MS</th>\n",
       "      <th>ST</th>\n",
       "      <th>PT</th>\n",
       "    </tr>\n",
       "  </thead>\n",
       "  <tbody>\n",
       "    <tr>\n",
       "      <th>49</th>\n",
       "      <td>0.0</td>\n",
       "      <td>116983.8</td>\n",
       "      <td>45173.06</td>\n",
       "      <td>California</td>\n",
       "      <td>14681.4</td>\n",
       "    </tr>\n",
       "  </tbody>\n",
       "</table>\n",
       "</div>"
      ],
      "text/plain": [
       "     RD        AD        MS          ST       PT\n",
       "49  0.0  116983.8  45173.06  California  14681.4"
      ]
     },
     "execution_count": 19,
     "metadata": {},
     "output_type": "execute_result"
    }
   ],
   "source": [
    "startup_df[startup_df.index.isin([49])]"
   ]
  },
  {
   "cell_type": "code",
   "execution_count": 20,
   "id": "411f65a4",
   "metadata": {},
   "outputs": [],
   "source": [
    "startup_df_qqplot_residual=startup_df.drop(index_no[0],axis=0).reset_index(drop=True)"
   ]
  },
  {
   "cell_type": "code",
   "execution_count": 21,
   "id": "b57fd391",
   "metadata": {},
   "outputs": [
    {
     "data": {
      "text/plain": [
       "(49, 5)"
      ]
     },
     "execution_count": 21,
     "metadata": {},
     "output_type": "execute_result"
    }
   ],
   "source": [
    "startup_df_qqplot_residual.shape"
   ]
  },
  {
   "cell_type": "code",
   "execution_count": 22,
   "id": "71134abd",
   "metadata": {},
   "outputs": [],
   "source": [
    "formula='PT ~ RD+AD+MS+ST'"
   ]
  },
  {
   "cell_type": "code",
   "execution_count": 23,
   "id": "7a462eb7",
   "metadata": {},
   "outputs": [],
   "source": [
    "model_qqplot=ols(formula=formula,data=startup_df_qqplot_residual).fit()"
   ]
  },
  {
   "cell_type": "code",
   "execution_count": 24,
   "id": "5245c81b",
   "metadata": {},
   "outputs": [
    {
     "data": {
      "text/plain": [
       "Intercept         53379.232166\n",
       "ST[T.Florida]     -1564.224245\n",
       "ST[T.New York]    -1954.017701\n",
       "RD                    0.783589\n",
       "AD                   -0.022022\n",
       "MS                    0.025821\n",
       "dtype: float64"
      ]
     },
     "execution_count": 24,
     "metadata": {},
     "output_type": "execute_result"
    }
   ],
   "source": [
    "model_qqplot.params"
   ]
  },
  {
   "cell_type": "code",
   "execution_count": 25,
   "id": "1368b808",
   "metadata": {},
   "outputs": [
    {
     "data": {
      "text/plain": [
       "Intercept         9.794946e-12\n",
       "ST[T.Florida]     5.848984e-01\n",
       "ST[T.New York]    4.815045e-01\n",
       "RD                1.898629e-23\n",
       "AD                6.162761e-01\n",
       "MS                7.828496e-02\n",
       "dtype: float64"
      ]
     },
     "execution_count": 25,
     "metadata": {},
     "output_type": "execute_result"
    }
   ],
   "source": [
    "model_qqplot.pvalues"
   ]
  },
  {
   "cell_type": "code",
   "execution_count": 26,
   "id": "5e6db3b5",
   "metadata": {},
   "outputs": [
    {
     "data": {
      "text/plain": [
       "0.9618082858227786"
      ]
     },
     "execution_count": 26,
     "metadata": {},
     "output_type": "execute_result"
    }
   ],
   "source": [
    "model_qqplot.rsquared"
   ]
  },
  {
   "cell_type": "markdown",
   "id": "65305308",
   "metadata": {},
   "source": [
    "## Influence Plot - this shows which observatoins or rows which are having high influence on the models prediction"
   ]
  },
  {
   "cell_type": "code",
   "execution_count": 27,
   "id": "240dcd08",
   "metadata": {},
   "outputs": [
    {
     "data": {
      "image/png": "[encoded data removed]",
      "text/plain": [
       "<Figure size 432x288 with 1 Axes>"
      ]
     },
     "metadata": {
      "needs_background": "light"
     },
     "output_type": "display_data"
    }
   ],
   "source": [
    "from statsmodels.graphics.regressionplots import influence_plot\n",
    "influence_plot(model);"
   ]
  },
  {
   "cell_type": "code",
   "execution_count": 28,
   "id": "e40a8187",
   "metadata": {},
   "outputs": [],
   "source": [
    "startup_df_Influence_plot=startup_df.drop([48,46,45,49],axis=0).reset_index(drop=True)"
   ]
  },
  {
   "cell_type": "code",
   "execution_count": 29,
   "id": "da32310c",
   "metadata": {},
   "outputs": [
    {
     "data": {
      "text/plain": [
       "(46, 5)"
      ]
     },
     "execution_count": 29,
     "metadata": {},
     "output_type": "execute_result"
    }
   ],
   "source": [
    "startup_df_Influence_plot.shape"
   ]
  },
  {
   "cell_type": "code",
   "execution_count": 30,
   "id": "cc2b7b86",
   "metadata": {},
   "outputs": [],
   "source": [
    "formula='PT ~ RD+AD+MS+ST'"
   ]
  },
  {
   "cell_type": "code",
   "execution_count": 31,
   "id": "c0b64729",
   "metadata": {},
   "outputs": [],
   "source": [
    "model_InfluencePlot=ols(formula=formula,data=startup_df_Influence_plot).fit()"
   ]
  },
  {
   "cell_type": "code",
   "execution_count": 32,
   "id": "11d72483",
   "metadata": {},
   "outputs": [
    {
     "data": {
      "text/plain": [
       "Intercept         57259.700904\n",
       "ST[T.Florida]      -912.428437\n",
       "ST[T.New York]    -1744.998960\n",
       "RD                    0.773029\n",
       "AD                   -0.052036\n",
       "MS                    0.028312\n",
       "dtype: float64"
      ]
     },
     "execution_count": 32,
     "metadata": {},
     "output_type": "execute_result"
    }
   ],
   "source": [
    "model_InfluencePlot.params"
   ]
  },
  {
   "cell_type": "code",
   "execution_count": 33,
   "id": "4bfabba1",
   "metadata": {},
   "outputs": [
    {
     "data": {
      "text/plain": [
       "Intercept         5.603723e-12\n",
       "ST[T.Florida]     7.323492e-01\n",
       "ST[T.New York]    5.131145e-01\n",
       "RD                1.346735e-21\n",
       "AD                2.434593e-01\n",
       "MS                6.313335e-02\n",
       "dtype: float64"
      ]
     },
     "execution_count": 33,
     "metadata": {},
     "output_type": "execute_result"
    }
   ],
   "source": [
    "model_InfluencePlot.pvalues"
   ]
  },
  {
   "cell_type": "code",
   "execution_count": 34,
   "id": "d0589148",
   "metadata": {},
   "outputs": [
    {
     "data": {
      "text/plain": [
       "0.9629967080989382"
      ]
     },
     "execution_count": 34,
     "metadata": {},
     "output_type": "execute_result"
    }
   ],
   "source": [
    "model_InfluencePlot.rsquared"
   ]
  },
  {
   "cell_type": "markdown",
   "id": "8158e682",
   "metadata": {},
   "source": [
    "### Cooks Distance"
   ]
  },
  {
   "cell_type": "code",
   "execution_count": 35,
   "id": "11569ac5",
   "metadata": {},
   "outputs": [
    {
     "data": {
      "text/plain": [
       "array([7.67941282e-06, 3.96002384e-03, 2.78948395e-02, 2.35705108e-02,\n",
       "       1.40231490e-02, 1.17098970e-02, 2.49314176e-03, 4.16542624e-03,\n",
       "       7.29467176e-05, 6.31415598e-03, 2.21391699e-02, 1.93512168e-02,\n",
       "       2.13263552e-02, 7.40092001e-03, 7.20165958e-02, 4.34157410e-02,\n",
       "       1.57591120e-02, 4.33058862e-03, 3.43997076e-03, 3.28909738e-02,\n",
       "       7.03247647e-04, 1.17002661e-02, 3.52541534e-03, 3.68801928e-04,\n",
       "       5.07030667e-03, 4.16365620e-03, 5.79414020e-03, 3.25030423e-02,\n",
       "       1.07438091e-03, 1.14685871e-04, 2.67092819e-05, 4.26003185e-06,\n",
       "       6.55180125e-04, 2.69550649e-04, 2.09894518e-02, 8.32171521e-03,\n",
       "       5.92471519e-02, 7.19280440e-05, 5.58017593e-02, 1.60830329e-03,\n",
       "       2.27122555e-03, 2.19513492e-03, 1.66164967e-04, 2.33988898e-02,\n",
       "       1.16697070e-04, 9.43947846e-02, 4.23233340e-02, 4.48153392e-03,\n",
       "       1.56376134e-01, 2.63959436e-01])"
      ]
     },
     "execution_count": 35,
     "metadata": {},
     "output_type": "execute_result"
    }
   ],
   "source": [
    "model_influence=model.get_influence()\n",
    "(c,_)=model_influence.cooks_distance\n",
    "c"
   ]
  },
  {
   "cell_type": "code",
   "execution_count": 36,
   "id": "b0c450ec",
   "metadata": {},
   "outputs": [
    {
     "data": {
      "image/png": "[encoded data removed]",
      "text/plain": [
       "<Figure size 1440x504 with 1 Axes>"
      ]
     },
     "metadata": {
      "needs_background": "light"
     },
     "output_type": "display_data"
    }
   ],
   "source": [
    "fig=plt.subplots(figsize=(20,7))\n",
    "plt.stem(np.arange(len(startup_df)),np.round(c,3))\n",
    "plt.xlabel('Row Index')\n",
    "plt.ylabel('Cooks distance');"
   ]
  },
  {
   "cell_type": "code",
   "execution_count": 37,
   "id": "11e583ed",
   "metadata": {},
   "outputs": [
    {
     "data": {
      "text/plain": [
       "0.08"
      ]
     },
     "execution_count": 37,
     "metadata": {},
     "output_type": "execute_result"
    }
   ],
   "source": [
    "4/len(startup_df)"
   ]
  },
  {
   "cell_type": "code",
   "execution_count": 38,
   "id": "effbba75",
   "metadata": {},
   "outputs": [
    {
     "data": {
      "text/plain": [
       "array([45, 48, 49], dtype=int64)"
      ]
     },
     "execution_count": 38,
     "metadata": {},
     "output_type": "execute_result"
    }
   ],
   "source": [
    "np.where(c>0.08)[0] "
   ]
  },
  {
   "cell_type": "code",
   "execution_count": 39,
   "id": "488094a8",
   "metadata": {},
   "outputs": [
    {
     "data": {
      "text/plain": [
       "(50, 5)"
      ]
     },
     "execution_count": 39,
     "metadata": {},
     "output_type": "execute_result"
    }
   ],
   "source": [
    "startup_df.shape"
   ]
  },
  {
   "cell_type": "code",
   "execution_count": 40,
   "id": "7f846b40",
   "metadata": {},
   "outputs": [],
   "source": [
    "startup_df_cooks_distance=startup_df.drop(np.where(c>0.08)[0],axis=0).reset_index(drop=True)"
   ]
  },
  {
   "cell_type": "code",
   "execution_count": 41,
   "id": "fdecba1e",
   "metadata": {},
   "outputs": [
    {
     "data": {
      "text/plain": [
       "(47, 5)"
      ]
     },
     "execution_count": 41,
     "metadata": {},
     "output_type": "execute_result"
    }
   ],
   "source": [
    "startup_df_cooks_distance.shape"
   ]
  },
  {
   "cell_type": "code",
   "execution_count": 42,
   "id": "443aa122",
   "metadata": {},
   "outputs": [],
   "source": [
    "formula='PT ~ RD+AD+MS+ST'"
   ]
  },
  {
   "cell_type": "code",
   "execution_count": 43,
   "id": "cd65a33a",
   "metadata": {},
   "outputs": [],
   "source": [
    "model_cooks_distance=ols(formula=formula,data=startup_df_cooks_distance).fit()"
   ]
  },
  {
   "cell_type": "code",
   "execution_count": 44,
   "id": "fbe8da2d",
   "metadata": {},
   "outputs": [
    {
     "data": {
      "text/plain": [
       "Intercept         58121.898873\n",
       "ST[T.Florida]     -1428.957602\n",
       "ST[T.New York]    -1812.302917\n",
       "RD                    0.796070\n",
       "AD                   -0.061155\n",
       "MS                    0.021292\n",
       "dtype: float64"
      ]
     },
     "execution_count": 44,
     "metadata": {},
     "output_type": "execute_result"
    }
   ],
   "source": [
    "model_cooks_distance.params"
   ]
  },
  {
   "cell_type": "code",
   "execution_count": 45,
   "id": "647ec520",
   "metadata": {},
   "outputs": [
    {
     "data": {
      "text/plain": [
       "Intercept         2.700935e-12\n",
       "ST[T.Florida]     5.898337e-01\n",
       "ST[T.New York]    4.993466e-01\n",
       "RD                2.832461e-24\n",
       "AD                1.678341e-01\n",
       "MS                1.282088e-01\n",
       "dtype: float64"
      ]
     },
     "execution_count": 45,
     "metadata": {},
     "output_type": "execute_result"
    }
   ],
   "source": [
    "model_cooks_distance.pvalues"
   ]
  },
  {
   "cell_type": "code",
   "execution_count": 46,
   "id": "480bd834",
   "metadata": {},
   "outputs": [
    {
     "data": {
      "text/plain": [
       "0.9645358420492033"
      ]
     },
     "execution_count": 46,
     "metadata": {},
     "output_type": "execute_result"
    }
   ],
   "source": [
    "model_cooks_distance.rsquared"
   ]
  },
  {
   "cell_type": "markdown",
   "id": "d80f123d",
   "metadata": {},
   "source": [
    "### VIF- Variance Inflation Factor- Check for multicollinearity btw independent features"
   ]
  },
  {
   "cell_type": "code",
   "execution_count": 47,
   "id": "8af22e04",
   "metadata": {},
   "outputs": [
    {
     "data": {
      "text/plain": [
       "New York      17\n",
       "California    17\n",
       "Florida       16\n",
       "Name: ST, dtype: int64"
      ]
     },
     "execution_count": 47,
     "metadata": {},
     "output_type": "execute_result"
    }
   ],
   "source": [
    "startup_df['ST'].value_counts()"
   ]
  },
  {
   "cell_type": "code",
   "execution_count": 48,
   "id": "54bdc4d1",
   "metadata": {},
   "outputs": [],
   "source": [
    "from sklearn.preprocessing import LabelEncoder"
   ]
  },
  {
   "cell_type": "code",
   "execution_count": 49,
   "id": "06846f9c",
   "metadata": {},
   "outputs": [],
   "source": [
    "label_encoder=LabelEncoder()"
   ]
  },
  {
   "cell_type": "code",
   "execution_count": 50,
   "id": "fb086f47",
   "metadata": {},
   "outputs": [],
   "source": [
    "startup_df_VIF=startup_df.copy()"
   ]
  },
  {
   "cell_type": "code",
   "execution_count": 51,
   "id": "7f92a982",
   "metadata": {},
   "outputs": [],
   "source": [
    "startup_df_VIF[\"ST\"]=label_encoder.fit_transform(startup_df_VIF[\"ST\"])"
   ]
  },
  {
   "cell_type": "code",
   "execution_count": 52,
   "id": "c4c5102d",
   "metadata": {},
   "outputs": [
    {
     "data": {
      "text/html": [
       "<div>\n",
       "<style scoped>\n",
       "    .dataframe tbody tr th:only-of-type {\n",
       "        vertical-align: middle;\n",
       "    }\n",
       "\n",
       "    .dataframe tbody tr th {\n",
       "        vertical-align: top;\n",
       "    }\n",
       "\n",
       "    .dataframe thead th {\n",
       "        text-align: right;\n",
       "    }\n",
       "</style>\n",
       "<table border=\"1\" class=\"dataframe\">\n",
       "  <thead>\n",
       "    <tr style=\"text-align: right;\">\n",
       "      <th></th>\n",
       "      <th>RD</th>\n",
       "      <th>AD</th>\n",
       "      <th>MS</th>\n",
       "      <th>ST</th>\n",
       "      <th>PT</th>\n",
       "    </tr>\n",
       "  </thead>\n",
       "  <tbody>\n",
       "    <tr>\n",
       "      <th>0</th>\n",
       "      <td>165349.20</td>\n",
       "      <td>136897.80</td>\n",
       "      <td>471784.10</td>\n",
       "      <td>2</td>\n",
       "      <td>192261.83</td>\n",
       "    </tr>\n",
       "    <tr>\n",
       "      <th>1</th>\n",
       "      <td>162597.70</td>\n",
       "      <td>151377.59</td>\n",
       "      <td>443898.53</td>\n",
       "      <td>0</td>\n",
       "      <td>191792.06</td>\n",
       "    </tr>\n",
       "    <tr>\n",
       "      <th>2</th>\n",
       "      <td>153441.51</td>\n",
       "      <td>101145.55</td>\n",
       "      <td>407934.54</td>\n",
       "      <td>1</td>\n",
       "      <td>191050.39</td>\n",
       "    </tr>\n",
       "    <tr>\n",
       "      <th>3</th>\n",
       "      <td>144372.41</td>\n",
       "      <td>118671.85</td>\n",
       "      <td>383199.62</td>\n",
       "      <td>2</td>\n",
       "      <td>182901.99</td>\n",
       "    </tr>\n",
       "    <tr>\n",
       "      <th>4</th>\n",
       "      <td>142107.34</td>\n",
       "      <td>91391.77</td>\n",
       "      <td>366168.42</td>\n",
       "      <td>1</td>\n",
       "      <td>166187.94</td>\n",
       "    </tr>\n",
       "  </tbody>\n",
       "</table>\n",
       "</div>"
      ],
      "text/plain": [
       "          RD         AD         MS  ST         PT\n",
       "0  165349.20  136897.80  471784.10   2  192261.83\n",
       "1  162597.70  151377.59  443898.53   0  191792.06\n",
       "2  153441.51  101145.55  407934.54   1  191050.39\n",
       "3  144372.41  118671.85  383199.62   2  182901.99\n",
       "4  142107.34   91391.77  366168.42   1  166187.94"
      ]
     },
     "execution_count": 52,
     "metadata": {},
     "output_type": "execute_result"
    }
   ],
   "source": [
    "startup_df_VIF.head()"
   ]
  },
  {
   "cell_type": "code",
   "execution_count": 53,
   "id": "2bcb33d1",
   "metadata": {},
   "outputs": [],
   "source": [
    "from statsmodels.stats.outliers_influence import variance_inflation_factor\n"
   ]
  },
  {
   "cell_type": "code",
   "execution_count": 54,
   "id": "988a6d9b",
   "metadata": {},
   "outputs": [],
   "source": [
    "startup_df_VIF_formodel=startup_df_VIF.drop('PT',axis=1)"
   ]
  },
  {
   "cell_type": "code",
   "execution_count": 55,
   "id": "3440fded",
   "metadata": {},
   "outputs": [
    {
     "data": {
      "text/html": [
       "<div>\n",
       "<style scoped>\n",
       "    .dataframe tbody tr th:only-of-type {\n",
       "        vertical-align: middle;\n",
       "    }\n",
       "\n",
       "    .dataframe tbody tr th {\n",
       "        vertical-align: top;\n",
       "    }\n",
       "\n",
       "    .dataframe thead th {\n",
       "        text-align: right;\n",
       "    }\n",
       "</style>\n",
       "<table border=\"1\" class=\"dataframe\">\n",
       "  <thead>\n",
       "    <tr style=\"text-align: right;\">\n",
       "      <th></th>\n",
       "      <th>RD</th>\n",
       "      <th>AD</th>\n",
       "      <th>MS</th>\n",
       "      <th>ST</th>\n",
       "    </tr>\n",
       "  </thead>\n",
       "  <tbody>\n",
       "    <tr>\n",
       "      <th>0</th>\n",
       "      <td>165349.20</td>\n",
       "      <td>136897.80</td>\n",
       "      <td>471784.10</td>\n",
       "      <td>2</td>\n",
       "    </tr>\n",
       "    <tr>\n",
       "      <th>1</th>\n",
       "      <td>162597.70</td>\n",
       "      <td>151377.59</td>\n",
       "      <td>443898.53</td>\n",
       "      <td>0</td>\n",
       "    </tr>\n",
       "    <tr>\n",
       "      <th>2</th>\n",
       "      <td>153441.51</td>\n",
       "      <td>101145.55</td>\n",
       "      <td>407934.54</td>\n",
       "      <td>1</td>\n",
       "    </tr>\n",
       "    <tr>\n",
       "      <th>3</th>\n",
       "      <td>144372.41</td>\n",
       "      <td>118671.85</td>\n",
       "      <td>383199.62</td>\n",
       "      <td>2</td>\n",
       "    </tr>\n",
       "    <tr>\n",
       "      <th>4</th>\n",
       "      <td>142107.34</td>\n",
       "      <td>91391.77</td>\n",
       "      <td>366168.42</td>\n",
       "      <td>1</td>\n",
       "    </tr>\n",
       "  </tbody>\n",
       "</table>\n",
       "</div>"
      ],
      "text/plain": [
       "          RD         AD         MS  ST\n",
       "0  165349.20  136897.80  471784.10   2\n",
       "1  162597.70  151377.59  443898.53   0\n",
       "2  153441.51  101145.55  407934.54   1\n",
       "3  144372.41  118671.85  383199.62   2\n",
       "4  142107.34   91391.77  366168.42   1"
      ]
     },
     "execution_count": 55,
     "metadata": {},
     "output_type": "execute_result"
    }
   ],
   "source": [
    "startup_df_VIF_formodel.head()"
   ]
  },
  {
   "cell_type": "code",
   "execution_count": 56,
   "id": "9a970142",
   "metadata": {},
   "outputs": [
    {
     "data": {
      "text/html": [
       "<div>\n",
       "<style scoped>\n",
       "    .dataframe tbody tr th:only-of-type {\n",
       "        vertical-align: middle;\n",
       "    }\n",
       "\n",
       "    .dataframe tbody tr th {\n",
       "        vertical-align: top;\n",
       "    }\n",
       "\n",
       "    .dataframe thead th {\n",
       "        text-align: right;\n",
       "    }\n",
       "</style>\n",
       "<table border=\"1\" class=\"dataframe\">\n",
       "  <thead>\n",
       "    <tr style=\"text-align: right;\">\n",
       "      <th></th>\n",
       "      <th>VIFFactor</th>\n",
       "      <th>Features</th>\n",
       "    </tr>\n",
       "  </thead>\n",
       "  <tbody>\n",
       "    <tr>\n",
       "      <th>0</th>\n",
       "      <td>8.386322</td>\n",
       "      <td>RD</td>\n",
       "    </tr>\n",
       "    <tr>\n",
       "      <th>1</th>\n",
       "      <td>4.815916</td>\n",
       "      <td>AD</td>\n",
       "    </tr>\n",
       "    <tr>\n",
       "      <th>2</th>\n",
       "      <td>7.674608</td>\n",
       "      <td>MS</td>\n",
       "    </tr>\n",
       "    <tr>\n",
       "      <th>3</th>\n",
       "      <td>2.382637</td>\n",
       "      <td>ST</td>\n",
       "    </tr>\n",
       "  </tbody>\n",
       "</table>\n",
       "</div>"
      ],
      "text/plain": [
       "   VIFFactor Features\n",
       "0   8.386322       RD\n",
       "1   4.815916       AD\n",
       "2   7.674608       MS\n",
       "3   2.382637       ST"
      ]
     },
     "execution_count": 56,
     "metadata": {},
     "output_type": "execute_result"
    }
   ],
   "source": [
    "vif=pd.DataFrame()\n",
    "vif['VIFFactor']=[variance_inflation_factor(startup_df_VIF_formodel.values,i) for i in range(startup_df_VIF_formodel.shape[1])]\n",
    "vif['Features']=startup_df_VIF_formodel.columns\n",
    "vif\n"
   ]
  },
  {
   "cell_type": "markdown",
   "id": "2c6d9782",
   "metadata": {},
   "source": [
    "### Since all the VIF values of independent features are less than 10 there is no high multicollinearity btw the independent features."
   ]
  },
  {
   "cell_type": "markdown",
   "id": "82433726",
   "metadata": {},
   "source": [
    "## RSQUARE TABLE"
   ]
  },
  {
   "cell_type": "code",
   "execution_count": 57,
   "id": "13925fc6",
   "metadata": {},
   "outputs": [
    {
     "data": {
      "text/html": [
       "<div>\n",
       "<style scoped>\n",
       "    .dataframe tbody tr th:only-of-type {\n",
       "        vertical-align: middle;\n",
       "    }\n",
       "\n",
       "    .dataframe tbody tr th {\n",
       "        vertical-align: top;\n",
       "    }\n",
       "\n",
       "    .dataframe thead th {\n",
       "        text-align: right;\n",
       "    }\n",
       "</style>\n",
       "<table border=\"1\" class=\"dataframe\">\n",
       "  <thead>\n",
       "    <tr style=\"text-align: right;\">\n",
       "      <th></th>\n",
       "      <th>Models</th>\n",
       "      <th>RSQUAREValue</th>\n",
       "    </tr>\n",
       "  </thead>\n",
       "  <tbody>\n",
       "    <tr>\n",
       "      <th>0</th>\n",
       "      <td>CooksDistance</td>\n",
       "      <td>0.964536</td>\n",
       "    </tr>\n",
       "    <tr>\n",
       "      <th>1</th>\n",
       "      <td>InfluencePlot</td>\n",
       "      <td>0.962997</td>\n",
       "    </tr>\n",
       "    <tr>\n",
       "      <th>2</th>\n",
       "      <td>QQPlot</td>\n",
       "      <td>0.961808</td>\n",
       "    </tr>\n",
       "    <tr>\n",
       "      <th>3</th>\n",
       "      <td>Default</td>\n",
       "      <td>0.950752</td>\n",
       "    </tr>\n",
       "  </tbody>\n",
       "</table>\n",
       "</div>"
      ],
      "text/plain": [
       "          Models  RSQUAREValue\n",
       "0  CooksDistance      0.964536\n",
       "1  InfluencePlot      0.962997\n",
       "2         QQPlot      0.961808\n",
       "3        Default      0.950752"
      ]
     },
     "execution_count": 57,
     "metadata": {},
     "output_type": "execute_result"
    }
   ],
   "source": [
    "Rsquare=pd.DataFrame()\n",
    "Rsquare[\"Models\"]=[\"CooksDistance\",\"InfluencePlot\",\"QQPlot\",\"Default\"]\n",
    "Rsquare[\"RSQUAREValue\"]=[model_cooks_distance.rsquared,\n",
    "                         model_InfluencePlot.rsquared,\n",
    "                         model_qqplot.rsquared,\n",
    "                         model.rsquared]\n",
    "Rsquare"
   ]
  },
  {
   "cell_type": "markdown",
   "id": "bb006ff7",
   "metadata": {},
   "source": [
    "### Model Predictions-Sample New Data"
   ]
  },
  {
   "cell_type": "code",
   "execution_count": 58,
   "id": "4073ca5e",
   "metadata": {},
   "outputs": [],
   "source": [
    "#data.append({'RD':165349.20,\"AD\":136897.80,\"MS\":471784.10,\"ST\":\"New York\"},ignore_index=True)"
   ]
  },
  {
   "cell_type": "code",
   "execution_count": 59,
   "id": "6396cd44",
   "metadata": {},
   "outputs": [],
   "source": [
    "data=pd.DataFrame({'RD':165349.20,\"AD\":136897.80,\"MS\":471784.10,\"ST\":\"New York\"},index=[0])"
   ]
  },
  {
   "cell_type": "code",
   "execution_count": 60,
   "id": "8af04761",
   "metadata": {},
   "outputs": [
    {
     "data": {
      "text/html": [
       "<div>\n",
       "<style scoped>\n",
       "    .dataframe tbody tr th:only-of-type {\n",
       "        vertical-align: middle;\n",
       "    }\n",
       "\n",
       "    .dataframe tbody tr th {\n",
       "        vertical-align: top;\n",
       "    }\n",
       "\n",
       "    .dataframe thead th {\n",
       "        text-align: right;\n",
       "    }\n",
       "</style>\n",
       "<table border=\"1\" class=\"dataframe\">\n",
       "  <thead>\n",
       "    <tr style=\"text-align: right;\">\n",
       "      <th></th>\n",
       "      <th>RD</th>\n",
       "      <th>AD</th>\n",
       "      <th>MS</th>\n",
       "      <th>ST</th>\n",
       "    </tr>\n",
       "  </thead>\n",
       "  <tbody>\n",
       "    <tr>\n",
       "      <th>0</th>\n",
       "      <td>165349.2</td>\n",
       "      <td>136897.8</td>\n",
       "      <td>471784.1</td>\n",
       "      <td>New York</td>\n",
       "    </tr>\n",
       "  </tbody>\n",
       "</table>\n",
       "</div>"
      ],
      "text/plain": [
       "         RD        AD        MS        ST\n",
       "0  165349.2  136897.8  471784.1  New York"
      ]
     },
     "execution_count": 60,
     "metadata": {},
     "output_type": "execute_result"
    }
   ],
   "source": [
    "data"
   ]
  },
  {
   "cell_type": "code",
   "execution_count": 61,
   "id": "0a9c9214",
   "metadata": {},
   "outputs": [
    {
     "data": {
      "text/plain": [
       "0    192390.571364\n",
       "dtype: float64"
      ]
     },
     "execution_count": 61,
     "metadata": {},
     "output_type": "execute_result"
    }
   ],
   "source": [
    "model.predict(data)"
   ]
  },
  {
   "cell_type": "code",
   "execution_count": 62,
   "id": "5c00638c",
   "metadata": {},
   "outputs": [
    {
     "data": {
      "text/plain": [
       "0    190158.286186\n",
       "dtype: float64"
      ]
     },
     "execution_count": 62,
     "metadata": {},
     "output_type": "execute_result"
    }
   ],
   "source": [
    "model_qqplot.predict(data)"
   ]
  },
  {
   "cell_type": "code",
   "execution_count": 63,
   "id": "c839c43c",
   "metadata": {},
   "outputs": [
    {
     "data": {
      "text/plain": [
       "0    189568.101575\n",
       "dtype: float64"
      ]
     },
     "execution_count": 63,
     "metadata": {},
     "output_type": "execute_result"
    }
   ],
   "source": [
    "model_InfluencePlot.predict(data)"
   ]
  },
  {
   "cell_type": "code",
   "execution_count": 64,
   "id": "ccbc617f",
   "metadata": {},
   "outputs": [
    {
     "data": {
      "text/plain": [
       "0    189612.190337\n",
       "dtype: float64"
      ]
     },
     "execution_count": 64,
     "metadata": {},
     "output_type": "execute_result"
    }
   ],
   "source": [
    "model_cooks_distance.predict(data)"
   ]
  },
  {
   "cell_type": "markdown",
   "id": "347ace32",
   "metadata": {},
   "source": [
    "### RMSE Method"
   ]
  },
  {
   "cell_type": "code",
   "execution_count": 65,
   "id": "a8dd003c",
   "metadata": {},
   "outputs": [],
   "source": [
    "from sklearn.metrics import mean_squared_error"
   ]
  },
  {
   "cell_type": "code",
   "execution_count": 66,
   "id": "aafa0eaa",
   "metadata": {},
   "outputs": [],
   "source": [
    "startup_df=startup_df.rename({\"R&D Spend\":\"RD\",\"Administration\":\"AD\",\"Marketing Spend\":\"MS\",\"State\":\"ST\",\"Profit\":\"PT\"},axis=1)"
   ]
  },
  {
   "cell_type": "code",
   "execution_count": 67,
   "id": "01d531eb",
   "metadata": {},
   "outputs": [
    {
     "data": {
      "text/html": [
       "<div>\n",
       "<style scoped>\n",
       "    .dataframe tbody tr th:only-of-type {\n",
       "        vertical-align: middle;\n",
       "    }\n",
       "\n",
       "    .dataframe tbody tr th {\n",
       "        vertical-align: top;\n",
       "    }\n",
       "\n",
       "    .dataframe thead th {\n",
       "        text-align: right;\n",
       "    }\n",
       "</style>\n",
       "<table border=\"1\" class=\"dataframe\">\n",
       "  <thead>\n",
       "    <tr style=\"text-align: right;\">\n",
       "      <th></th>\n",
       "      <th>RD</th>\n",
       "      <th>AD</th>\n",
       "      <th>MS</th>\n",
       "      <th>ST</th>\n",
       "      <th>PT</th>\n",
       "    </tr>\n",
       "  </thead>\n",
       "  <tbody>\n",
       "    <tr>\n",
       "      <th>0</th>\n",
       "      <td>165349.20</td>\n",
       "      <td>136897.80</td>\n",
       "      <td>471784.10</td>\n",
       "      <td>New York</td>\n",
       "      <td>192261.83</td>\n",
       "    </tr>\n",
       "    <tr>\n",
       "      <th>1</th>\n",
       "      <td>162597.70</td>\n",
       "      <td>151377.59</td>\n",
       "      <td>443898.53</td>\n",
       "      <td>California</td>\n",
       "      <td>191792.06</td>\n",
       "    </tr>\n",
       "    <tr>\n",
       "      <th>2</th>\n",
       "      <td>153441.51</td>\n",
       "      <td>101145.55</td>\n",
       "      <td>407934.54</td>\n",
       "      <td>Florida</td>\n",
       "      <td>191050.39</td>\n",
       "    </tr>\n",
       "    <tr>\n",
       "      <th>3</th>\n",
       "      <td>144372.41</td>\n",
       "      <td>118671.85</td>\n",
       "      <td>383199.62</td>\n",
       "      <td>New York</td>\n",
       "      <td>182901.99</td>\n",
       "    </tr>\n",
       "    <tr>\n",
       "      <th>4</th>\n",
       "      <td>142107.34</td>\n",
       "      <td>91391.77</td>\n",
       "      <td>366168.42</td>\n",
       "      <td>Florida</td>\n",
       "      <td>166187.94</td>\n",
       "    </tr>\n",
       "  </tbody>\n",
       "</table>\n",
       "</div>"
      ],
      "text/plain": [
       "          RD         AD         MS          ST         PT\n",
       "0  165349.20  136897.80  471784.10    New York  192261.83\n",
       "1  162597.70  151377.59  443898.53  California  191792.06\n",
       "2  153441.51  101145.55  407934.54     Florida  191050.39\n",
       "3  144372.41  118671.85  383199.62    New York  182901.99\n",
       "4  142107.34   91391.77  366168.42     Florida  166187.94"
      ]
     },
     "execution_count": 67,
     "metadata": {},
     "output_type": "execute_result"
    }
   ],
   "source": [
    "startup_df.head()"
   ]
  },
  {
   "cell_type": "code",
   "execution_count": 68,
   "id": "9a457799",
   "metadata": {},
   "outputs": [
    {
     "data": {
      "text/plain": [
       "8854.761029414496"
      ]
     },
     "execution_count": 68,
     "metadata": {},
     "output_type": "execute_result"
    }
   ],
   "source": [
    "predictions_default=model.predict(startup_df)\n",
    "rmse_default=mean_squared_error(startup_df['PT'],predictions_default,squared=False)\n",
    "rmse_default"
   ]
  },
  {
   "cell_type": "code",
   "execution_count": 69,
   "id": "042de75a",
   "metadata": {},
   "outputs": [
    {
     "data": {
      "text/plain": [
       "7383.180758323902"
      ]
     },
     "execution_count": 69,
     "metadata": {},
     "output_type": "execute_result"
    }
   ],
   "source": [
    "predictions_qqplot=model_qqplot.predict(startup_df_qqplot_residual)\n",
    "rmse_qqplot=mean_squared_error(startup_df_qqplot_residual['PT'],predictions_qqplot,squared=False)\n",
    "rmse_qqplot"
   ]
  },
  {
   "cell_type": "code",
   "execution_count": 70,
   "id": "eb73b1b4",
   "metadata": {},
   "outputs": [
    {
     "data": {
      "text/plain": [
       "6737.649026104342"
      ]
     },
     "execution_count": 70,
     "metadata": {},
     "output_type": "execute_result"
    }
   ],
   "source": [
    "predictions_influenceplot=model_InfluencePlot.predict(startup_df_Influence_plot)\n",
    "rmse_influenceplot=mean_squared_error(startup_df_Influence_plot['PT'],predictions_influenceplot,squared=False)\n",
    "rmse_influenceplot"
   ]
  },
  {
   "cell_type": "code",
   "execution_count": 71,
   "id": "f482c920",
   "metadata": {},
   "outputs": [
    {
     "data": {
      "text/plain": [
       "6787.15571961047"
      ]
     },
     "execution_count": 71,
     "metadata": {},
     "output_type": "execute_result"
    }
   ],
   "source": [
    "predictions_cooksdistance=model_cooks_distance.predict(startup_df_cooks_distance)\n",
    "rmse_cooksdistance=mean_squared_error(startup_df_cooks_distance['PT'],predictions_cooksdistance,squared=False)\n",
    "rmse_cooksdistance"
   ]
  },
  {
   "cell_type": "code",
   "execution_count": 72,
   "id": "efd602c7",
   "metadata": {},
   "outputs": [
    {
     "data": {
      "text/html": [
       "<div>\n",
       "<style scoped>\n",
       "    .dataframe tbody tr th:only-of-type {\n",
       "        vertical-align: middle;\n",
       "    }\n",
       "\n",
       "    .dataframe tbody tr th {\n",
       "        vertical-align: top;\n",
       "    }\n",
       "\n",
       "    .dataframe thead th {\n",
       "        text-align: right;\n",
       "    }\n",
       "</style>\n",
       "<table border=\"1\" class=\"dataframe\">\n",
       "  <thead>\n",
       "    <tr style=\"text-align: right;\">\n",
       "      <th></th>\n",
       "      <th>Models</th>\n",
       "      <th>RMSEValues</th>\n",
       "    </tr>\n",
       "  </thead>\n",
       "  <tbody>\n",
       "    <tr>\n",
       "      <th>0</th>\n",
       "      <td>InfluencePlot</td>\n",
       "      <td>6737.649026</td>\n",
       "    </tr>\n",
       "    <tr>\n",
       "      <th>1</th>\n",
       "      <td>CooksDistance</td>\n",
       "      <td>6787.155720</td>\n",
       "    </tr>\n",
       "    <tr>\n",
       "      <th>2</th>\n",
       "      <td>QQPlot</td>\n",
       "      <td>7383.180758</td>\n",
       "    </tr>\n",
       "    <tr>\n",
       "      <th>3</th>\n",
       "      <td>Default</td>\n",
       "      <td>8854.761029</td>\n",
       "    </tr>\n",
       "  </tbody>\n",
       "</table>\n",
       "</div>"
      ],
      "text/plain": [
       "          Models   RMSEValues\n",
       "0  InfluencePlot  6737.649026\n",
       "1  CooksDistance  6787.155720\n",
       "2         QQPlot  7383.180758\n",
       "3        Default  8854.761029"
      ]
     },
     "execution_count": 72,
     "metadata": {},
     "output_type": "execute_result"
    }
   ],
   "source": [
    "RMSE=pd.DataFrame()\n",
    "RMSE[\"Models\"]=[\"InfluencePlot\",\"CooksDistance\",\"QQPlot\",\"Default\",]\n",
    "RMSE[\"RMSEValues\"]=[rmse_influenceplot,rmse_cooksdistance,rmse_qqplot,rmse_default]\n",
    "RMSE"
   ]
  },
  {
   "cell_type": "markdown",
   "id": "de260940",
   "metadata": {},
   "source": [
    "### So the best model to choose is between Influence Plot or CooksDistance Model since it has least RMSE value compared to others and it is able to explain 96.45% and 96.29% of the variability in the Target variable by the independent variables."
   ]
  },
  {
   "cell_type": "markdown",
   "id": "950dae44",
   "metadata": {},
   "source": [
    "# END OF PROBLEM1"
   ]
  },
  {
   "cell_type": "markdown",
   "id": "89c00364",
   "metadata": {},
   "source": [
    "## Multiple Linear Regression - Predicting Price of Toyota Corolla\n"
   ]
  },
  {
   "cell_type": "code",
   "execution_count": 73,
   "id": "ef1360b0",
   "metadata": {},
   "outputs": [],
   "source": [
    "import pandas as pd \n",
    "import numpy as np \n",
    "import matplotlib.pyplot as plt\n",
    "import seaborn as sns"
   ]
  },
  {
   "cell_type": "code",
   "execution_count": 74,
   "id": "81157c10",
   "metadata": {},
   "outputs": [],
   "source": [
    "df=pd.read_csv(\"ToyotaCorolla.csv\",encoding='latin1')"
   ]
  },
  {
   "cell_type": "code",
   "execution_count": 75,
   "id": "bd367d48",
   "metadata": {},
   "outputs": [],
   "source": [
    "df_toyota=df.iloc[:,[2,3,6,8,12,13,15,16,17]]"
   ]
  },
  {
   "cell_type": "code",
   "execution_count": 76,
   "id": "23f1a192",
   "metadata": {},
   "outputs": [
    {
     "data": {
      "text/html": [
       "<div>\n",
       "<style scoped>\n",
       "    .dataframe tbody tr th:only-of-type {\n",
       "        vertical-align: middle;\n",
       "    }\n",
       "\n",
       "    .dataframe tbody tr th {\n",
       "        vertical-align: top;\n",
       "    }\n",
       "\n",
       "    .dataframe thead th {\n",
       "        text-align: right;\n",
       "    }\n",
       "</style>\n",
       "<table border=\"1\" class=\"dataframe\">\n",
       "  <thead>\n",
       "    <tr style=\"text-align: right;\">\n",
       "      <th></th>\n",
       "      <th>Price</th>\n",
       "      <th>Age_08_04</th>\n",
       "      <th>KM</th>\n",
       "      <th>HP</th>\n",
       "      <th>cc</th>\n",
       "      <th>Doors</th>\n",
       "      <th>Gears</th>\n",
       "      <th>Quarterly_Tax</th>\n",
       "      <th>Weight</th>\n",
       "    </tr>\n",
       "  </thead>\n",
       "  <tbody>\n",
       "    <tr>\n",
       "      <th>0</th>\n",
       "      <td>13500</td>\n",
       "      <td>23</td>\n",
       "      <td>46986</td>\n",
       "      <td>90</td>\n",
       "      <td>2000</td>\n",
       "      <td>3</td>\n",
       "      <td>5</td>\n",
       "      <td>210</td>\n",
       "      <td>1165</td>\n",
       "    </tr>\n",
       "    <tr>\n",
       "      <th>1</th>\n",
       "      <td>13750</td>\n",
       "      <td>23</td>\n",
       "      <td>72937</td>\n",
       "      <td>90</td>\n",
       "      <td>2000</td>\n",
       "      <td>3</td>\n",
       "      <td>5</td>\n",
       "      <td>210</td>\n",
       "      <td>1165</td>\n",
       "    </tr>\n",
       "    <tr>\n",
       "      <th>2</th>\n",
       "      <td>13950</td>\n",
       "      <td>24</td>\n",
       "      <td>41711</td>\n",
       "      <td>90</td>\n",
       "      <td>2000</td>\n",
       "      <td>3</td>\n",
       "      <td>5</td>\n",
       "      <td>210</td>\n",
       "      <td>1165</td>\n",
       "    </tr>\n",
       "    <tr>\n",
       "      <th>3</th>\n",
       "      <td>14950</td>\n",
       "      <td>26</td>\n",
       "      <td>48000</td>\n",
       "      <td>90</td>\n",
       "      <td>2000</td>\n",
       "      <td>3</td>\n",
       "      <td>5</td>\n",
       "      <td>210</td>\n",
       "      <td>1165</td>\n",
       "    </tr>\n",
       "    <tr>\n",
       "      <th>4</th>\n",
       "      <td>13750</td>\n",
       "      <td>30</td>\n",
       "      <td>38500</td>\n",
       "      <td>90</td>\n",
       "      <td>2000</td>\n",
       "      <td>3</td>\n",
       "      <td>5</td>\n",
       "      <td>210</td>\n",
       "      <td>1170</td>\n",
       "    </tr>\n",
       "    <tr>\n",
       "      <th>...</th>\n",
       "      <td>...</td>\n",
       "      <td>...</td>\n",
       "      <td>...</td>\n",
       "      <td>...</td>\n",
       "      <td>...</td>\n",
       "      <td>...</td>\n",
       "      <td>...</td>\n",
       "      <td>...</td>\n",
       "      <td>...</td>\n",
       "    </tr>\n",
       "    <tr>\n",
       "      <th>1431</th>\n",
       "      <td>7500</td>\n",
       "      <td>69</td>\n",
       "      <td>20544</td>\n",
       "      <td>86</td>\n",
       "      <td>1300</td>\n",
       "      <td>3</td>\n",
       "      <td>5</td>\n",
       "      <td>69</td>\n",
       "      <td>1025</td>\n",
       "    </tr>\n",
       "    <tr>\n",
       "      <th>1432</th>\n",
       "      <td>10845</td>\n",
       "      <td>72</td>\n",
       "      <td>19000</td>\n",
       "      <td>86</td>\n",
       "      <td>1300</td>\n",
       "      <td>3</td>\n",
       "      <td>5</td>\n",
       "      <td>69</td>\n",
       "      <td>1015</td>\n",
       "    </tr>\n",
       "    <tr>\n",
       "      <th>1433</th>\n",
       "      <td>8500</td>\n",
       "      <td>71</td>\n",
       "      <td>17016</td>\n",
       "      <td>86</td>\n",
       "      <td>1300</td>\n",
       "      <td>3</td>\n",
       "      <td>5</td>\n",
       "      <td>69</td>\n",
       "      <td>1015</td>\n",
       "    </tr>\n",
       "    <tr>\n",
       "      <th>1434</th>\n",
       "      <td>7250</td>\n",
       "      <td>70</td>\n",
       "      <td>16916</td>\n",
       "      <td>86</td>\n",
       "      <td>1300</td>\n",
       "      <td>3</td>\n",
       "      <td>5</td>\n",
       "      <td>69</td>\n",
       "      <td>1015</td>\n",
       "    </tr>\n",
       "    <tr>\n",
       "      <th>1435</th>\n",
       "      <td>6950</td>\n",
       "      <td>76</td>\n",
       "      <td>1</td>\n",
       "      <td>110</td>\n",
       "      <td>1600</td>\n",
       "      <td>5</td>\n",
       "      <td>5</td>\n",
       "      <td>19</td>\n",
       "      <td>1114</td>\n",
       "    </tr>\n",
       "  </tbody>\n",
       "</table>\n",
       "<p>1436 rows × 9 columns</p>\n",
       "</div>"
      ],
      "text/plain": [
       "      Price  Age_08_04     KM   HP    cc  Doors  Gears  Quarterly_Tax  Weight\n",
       "0     13500         23  46986   90  2000      3      5            210    1165\n",
       "1     13750         23  72937   90  2000      3      5            210    1165\n",
       "2     13950         24  41711   90  2000      3      5            210    1165\n",
       "3     14950         26  48000   90  2000      3      5            210    1165\n",
       "4     13750         30  38500   90  2000      3      5            210    1170\n",
       "...     ...        ...    ...  ...   ...    ...    ...            ...     ...\n",
       "1431   7500         69  20544   86  1300      3      5             69    1025\n",
       "1432  10845         72  19000   86  1300      3      5             69    1015\n",
       "1433   8500         71  17016   86  1300      3      5             69    1015\n",
       "1434   7250         70  16916   86  1300      3      5             69    1015\n",
       "1435   6950         76      1  110  1600      5      5             19    1114\n",
       "\n",
       "[1436 rows x 9 columns]"
      ]
     },
     "execution_count": 76,
     "metadata": {},
     "output_type": "execute_result"
    }
   ],
   "source": [
    "df_toyota"
   ]
  },
  {
   "cell_type": "markdown",
   "id": "a27becfe",
   "metadata": {},
   "source": [
    "### EDA"
   ]
  },
  {
   "cell_type": "code",
   "execution_count": 77,
   "id": "68bf085f",
   "metadata": {},
   "outputs": [
    {
     "name": "stdout",
     "output_type": "stream",
     "text": [
      "<class 'pandas.core.frame.DataFrame'>\n",
      "RangeIndex: 1436 entries, 0 to 1435\n",
      "Data columns (total 9 columns):\n",
      " #   Column         Non-Null Count  Dtype\n",
      "---  ------         --------------  -----\n",
      " 0   Price          1436 non-null   int64\n",
      " 1   Age_08_04      1436 non-null   int64\n",
      " 2   KM             1436 non-null   int64\n",
      " 3   HP             1436 non-null   int64\n",
      " 4   cc             1436 non-null   int64\n",
      " 5   Doors          1436 non-null   int64\n",
      " 6   Gears          1436 non-null   int64\n",
      " 7   Quarterly_Tax  1436 non-null   int64\n",
      " 8   Weight         1436 non-null   int64\n",
      "dtypes: int64(9)\n",
      "memory usage: 101.1 KB\n"
     ]
    }
   ],
   "source": [
    "df_toyota.info()"
   ]
  },
  {
   "cell_type": "code",
   "execution_count": 78,
   "id": "88479636",
   "metadata": {},
   "outputs": [
    {
     "data": {
      "text/plain": [
       "(1436, 9)"
      ]
     },
     "execution_count": 78,
     "metadata": {},
     "output_type": "execute_result"
    }
   ],
   "source": [
    "df_toyota.shape"
   ]
  },
  {
   "cell_type": "markdown",
   "id": "0b55ae6d",
   "metadata": {},
   "source": [
    "### Check for Duplicates and empty rows"
   ]
  },
  {
   "cell_type": "code",
   "execution_count": 79,
   "id": "87487299",
   "metadata": {},
   "outputs": [
    {
     "data": {
      "text/plain": [
       "Price            0\n",
       "Age_08_04        0\n",
       "KM               0\n",
       "HP               0\n",
       "cc               0\n",
       "Doors            0\n",
       "Gears            0\n",
       "Quarterly_Tax    0\n",
       "Weight           0\n",
       "dtype: int64"
      ]
     },
     "execution_count": 79,
     "metadata": {},
     "output_type": "execute_result"
    }
   ],
   "source": [
    "df_toyota.isnull().sum()"
   ]
  },
  {
   "cell_type": "code",
   "execution_count": 80,
   "id": "8f3a1388",
   "metadata": {},
   "outputs": [
    {
     "data": {
      "text/plain": [
       "1"
      ]
     },
     "execution_count": 80,
     "metadata": {},
     "output_type": "execute_result"
    }
   ],
   "source": [
    "df_toyota.duplicated().sum()"
   ]
  },
  {
   "cell_type": "code",
   "execution_count": 81,
   "id": "e2888fbb",
   "metadata": {},
   "outputs": [
    {
     "name": "stderr",
     "output_type": "stream",
     "text": [
      "C:\\Users\\Sachin Ganapathy\\Anaconda3\\envs\\tf\\lib\\site-packages\\pandas\\util\\_decorators.py:311: SettingWithCopyWarning: \n",
      "A value is trying to be set on a copy of a slice from a DataFrame\n",
      "\n",
      "See the caveats in the documentation: https://pandas.pydata.org/pandas-docs/stable/user_guide/indexing.html#returning-a-view-versus-a-copy\n",
      "  return func(*args, **kwargs)\n"
     ]
    }
   ],
   "source": [
    "df_toyota.drop_duplicates(inplace=True)"
   ]
  },
  {
   "cell_type": "code",
   "execution_count": 82,
   "id": "682cd5ad",
   "metadata": {},
   "outputs": [],
   "source": [
    "df_toyota=df_toyota.reset_index(drop=True)"
   ]
  },
  {
   "cell_type": "code",
   "execution_count": 83,
   "id": "ebfd6555",
   "metadata": {},
   "outputs": [
    {
     "data": {
      "text/plain": [
       "0"
      ]
     },
     "execution_count": 83,
     "metadata": {},
     "output_type": "execute_result"
    }
   ],
   "source": [
    "df_toyota.duplicated().sum()"
   ]
  },
  {
   "cell_type": "markdown",
   "id": "1c2adae7",
   "metadata": {},
   "source": [
    "### Check for Outliers"
   ]
  },
  {
   "cell_type": "code",
   "execution_count": 84,
   "id": "01e369b7",
   "metadata": {},
   "outputs": [
    {
     "name": "stderr",
     "output_type": "stream",
     "text": [
      "C:\\Users\\Sachin Ganapathy\\Anaconda3\\envs\\tf\\lib\\site-packages\\ipykernel_launcher.py:2: UserWarning: Tight layout not applied. tight_layout cannot make axes width small enough to accommodate all axes decorations\n",
      "  \n"
     ]
    },
    {
     "data": {
      "image/png": "[encoded data removed]",
      "text/plain": [
       "<Figure size 432x288 with 9 Axes>"
      ]
     },
     "metadata": {
      "needs_background": "light"
     },
     "output_type": "display_data"
    }
   ],
   "source": [
    "df_toyota.plot(kind='box',subplots=True)\n",
    "plt.tight_layout();"
   ]
  },
  {
   "cell_type": "code",
   "execution_count": 85,
   "id": "ac12e1e6",
   "metadata": {},
   "outputs": [],
   "source": [
    "df_toyota.rename({\"Price\":\"PR\",\"Age_08_04\":\"Age\",\"KM\":\"km\",\"HP\":\"hp\",\"cc\":\"CC\",\"Doors\":\"DOORS\",\n",
    "                  \"Gears\":\"GEARS\",\"Quarterly_Tax\":\"QTax\",\"Weight\":\"WT\"},axis=1,inplace=True)"
   ]
  },
  {
   "cell_type": "code",
   "execution_count": 86,
   "id": "e9e1c62f",
   "metadata": {},
   "outputs": [],
   "source": [
    "df_toyota_NOUT=df_toyota.copy()"
   ]
  },
  {
   "cell_type": "code",
   "execution_count": 87,
   "id": "71a95af5",
   "metadata": {},
   "outputs": [],
   "source": [
    "for i in range(df_toyota_NOUT.shape[1]):\n",
    "    if df_toyota_NOUT.columns[i]=='PR':\n",
    "        pass\n",
    "    else:\n",
    "        q3=df_toyota_NOUT[df_toyota_NOUT.columns[i]].quantile(0.75)\n",
    "        q1=df_toyota_NOUT[df_toyota_NOUT.columns[i]].quantile(0.25)\n",
    "        IQR=q3-q1\n",
    "        UB=q3+(1.5*IQR)\n",
    "        LB=q1-abs(1.5*IQR)\n",
    "        df_toyota_NOUT[df_toyota_NOUT.columns[i]]=np.where(df_toyota_NOUT[df_toyota_NOUT.columns[i]]>UB,\n",
    "                                                                 UB,df_toyota_NOUT[df_toyota_NOUT.columns[i]])\n",
    "        df_toyota_NOUT[df_toyota_NOUT.columns[i]]=np.where(df_toyota_NOUT[df_toyota_NOUT.columns[i]]<LB,\n",
    "                                                                 LB,df_toyota_NOUT[df_toyota_NOUT.columns[i]])"
   ]
  },
  {
   "cell_type": "code",
   "execution_count": 88,
   "id": "7c3d8e9f",
   "metadata": {},
   "outputs": [
    {
     "name": "stderr",
     "output_type": "stream",
     "text": [
      "C:\\Users\\Sachin Ganapathy\\Anaconda3\\envs\\tf\\lib\\site-packages\\ipykernel_launcher.py:2: UserWarning: Tight layout not applied. tight_layout cannot make axes width small enough to accommodate all axes decorations\n",
      "  \n"
     ]
    },
    {
     "data": {
      "image/png": "[encoded data removed]",
      "text/plain": [
       "<Figure size 432x288 with 9 Axes>"
      ]
     },
     "metadata": {
      "needs_background": "light"
     },
     "output_type": "display_data"
    }
   ],
   "source": [
    "df_toyota_NOUT.plot(kind='box',subplots=True)\n",
    "plt.tight_layout();"
   ]
  },
  {
   "cell_type": "code",
   "execution_count": 89,
   "id": "2b146d2e",
   "metadata": {},
   "outputs": [],
   "source": [
    "from matplotlib.cbook import boxplot_stats"
   ]
  },
  {
   "cell_type": "code",
   "execution_count": 90,
   "id": "280f1a8e",
   "metadata": {},
   "outputs": [
    {
     "data": {
      "text/plain": [
       "[{'mean': 10720.915679442509,\n",
       "  'iqr': 3500.0,\n",
       "  'cilo': 9754.941979648513,\n",
       "  'cihi': 10045.058020351487,\n",
       "  'whishi': 17200.0,\n",
       "  'whislo': 4350.0,\n",
       "  'fliers': array([18600., 21500., 20950., 19950., 19600., 21500., 22500., 22000.,\n",
       "         22750., 17950., 17495., 17950., 19000., 17950., 17950., 21950.,\n",
       "         17950., 20500., 21950., 18950., 18750., 17950., 17950., 18950.,\n",
       "         22250., 18950., 19950., 18750., 18450., 18950., 17250., 17950.,\n",
       "         17450., 17950., 21950., 22250., 19950., 18900., 19950., 18750.,\n",
       "         17450., 18990., 18500., 18500., 19450., 18800., 17450., 17950.,\n",
       "         32500., 31000., 31275., 24950., 22950., 24990., 21950., 17900.,\n",
       "         19250., 22250., 18950., 19950., 18950., 21750., 17950., 18450.,\n",
       "         23000., 19900., 23950., 19950., 18500., 18950., 20500., 24500.,\n",
       "         19450., 20950., 19950., 18450., 19500., 21750., 19500., 18900.,\n",
       "         19750., 19750., 18950., 20750., 19600., 19500., 17650., 19950.,\n",
       "         19950., 20950., 20500., 17795., 18245., 23750., 19500., 18950.,\n",
       "         21950., 19950., 18950., 19950., 21950., 22500., 18500., 18700.,\n",
       "         21125., 21500., 17795., 18245., 18950.]),\n",
       "  'q1': 8450.0,\n",
       "  'med': 9900.0,\n",
       "  'q3': 11950.0},\n",
       " {'mean': 55.992334494773516,\n",
       "  'iqr': 26.0,\n",
       "  'cilo': 59.922426134531804,\n",
       "  'cihi': 62.077573865468196,\n",
       "  'whishi': 80.0,\n",
       "  'whislo': 5.0,\n",
       "  'fliers': array([], dtype=float64),\n",
       "  'q1': 44.0,\n",
       "  'med': 61.0,\n",
       "  'q3': 70.0},\n",
       " {'mean': 67644.52038327526,\n",
       "  'iqr': 44041.5,\n",
       "  'cilo': 61625.693484768555,\n",
       "  'cihi': 65276.306515231445,\n",
       "  'whishi': 153103.75,\n",
       "  'whislo': 1.0,\n",
       "  'fliers': array([], dtype=float64),\n",
       "  'q1': 43000.0,\n",
       "  'med': 63451.0,\n",
       "  'q3': 87041.5},\n",
       " {'mean': 101.09337979094077,\n",
       "  'iqr': 20.0,\n",
       "  'cilo': 109.17109702656293,\n",
       "  'cihi': 110.82890297343707,\n",
       "  'whishi': 140.0,\n",
       "  'whislo': 69.0,\n",
       "  'fliers': array([], dtype=float64),\n",
       "  'q1': 90.0,\n",
       "  'med': 110.0,\n",
       "  'q3': 110.0},\n",
       " {'mean': 1558.3275261324043,\n",
       "  'iqr': 200.0,\n",
       "  'cilo': 1591.7109702656292,\n",
       "  'cihi': 1608.2890297343708,\n",
       "  'whishi': 1900.0,\n",
       "  'whislo': 1300.0,\n",
       "  'fliers': array([], dtype=float64),\n",
       "  'q1': 1400.0,\n",
       "  'med': 1600.0,\n",
       "  'q3': 1600.0},\n",
       " {'mean': 4.032752613240418,\n",
       "  'iqr': 2.0,\n",
       "  'cilo': 3.9171097026562927,\n",
       "  'cihi': 4.082890297343708,\n",
       "  'whishi': 5.0,\n",
       "  'whislo': 2.0,\n",
       "  'fliers': array([], dtype=float64),\n",
       "  'q1': 3.0,\n",
       "  'med': 4.0,\n",
       "  'q3': 5.0},\n",
       " {'mean': 5.0,\n",
       "  'iqr': 0.0,\n",
       "  'cilo': 5.0,\n",
       "  'cihi': 5.0,\n",
       "  'whishi': 5.0,\n",
       "  'whislo': 5.0,\n",
       "  'fliers': array([], dtype=float64),\n",
       "  'q1': 5.0,\n",
       "  'med': 5.0,\n",
       "  'q3': 5.0},\n",
       " {'mean': 79.14912891986063,\n",
       "  'iqr': 16.0,\n",
       "  'cilo': 84.33687762125034,\n",
       "  'cihi': 85.66312237874966,\n",
       "  'whishi': 109.0,\n",
       "  'whislo': 45.0,\n",
       "  'fliers': array([], dtype=float64),\n",
       "  'q1': 69.0,\n",
       "  'med': 85.0,\n",
       "  'q3': 85.0},\n",
       " {'mean': 1068.520905923345,\n",
       "  'iqr': 45.0,\n",
       "  'cilo': 1068.1349683097667,\n",
       "  'cihi': 1071.8650316902333,\n",
       "  'whishi': 1152.5,\n",
       "  'whislo': 1000.0,\n",
       "  'fliers': array([], dtype=float64),\n",
       "  'q1': 1040.0,\n",
       "  'med': 1070.0,\n",
       "  'q3': 1085.0}]"
      ]
     },
     "execution_count": 90,
     "metadata": {},
     "output_type": "execute_result"
    }
   ],
   "source": [
    "boxplot_stats(df_toyota_NOUT)"
   ]
  },
  {
   "cell_type": "markdown",
   "id": "b11a9b51",
   "metadata": {},
   "source": [
    "### Corelation Analysis\n"
   ]
  },
  {
   "cell_type": "code",
   "execution_count": 91,
   "id": "1c9e5f62",
   "metadata": {},
   "outputs": [
    {
     "data": {
      "text/html": [
       "<div>\n",
       "<style scoped>\n",
       "    .dataframe tbody tr th:only-of-type {\n",
       "        vertical-align: middle;\n",
       "    }\n",
       "\n",
       "    .dataframe tbody tr th {\n",
       "        vertical-align: top;\n",
       "    }\n",
       "\n",
       "    .dataframe thead th {\n",
       "        text-align: right;\n",
       "    }\n",
       "</style>\n",
       "<table border=\"1\" class=\"dataframe\">\n",
       "  <thead>\n",
       "    <tr style=\"text-align: right;\">\n",
       "      <th></th>\n",
       "      <th>PR</th>\n",
       "      <th>Age</th>\n",
       "      <th>km</th>\n",
       "      <th>hp</th>\n",
       "      <th>CC</th>\n",
       "      <th>DOORS</th>\n",
       "      <th>GEARS</th>\n",
       "      <th>QTax</th>\n",
       "      <th>WT</th>\n",
       "    </tr>\n",
       "  </thead>\n",
       "  <tbody>\n",
       "    <tr>\n",
       "      <th>PR</th>\n",
       "      <td>1.0000</td>\n",
       "      <td>-0.8763</td>\n",
       "      <td>-0.5694</td>\n",
       "      <td>0.3141</td>\n",
       "      <td>0.1244</td>\n",
       "      <td>0.1836</td>\n",
       "      <td>0.0638</td>\n",
       "      <td>0.2115</td>\n",
       "      <td>0.5759</td>\n",
       "    </tr>\n",
       "    <tr>\n",
       "      <th>Age</th>\n",
       "      <td>-0.8763</td>\n",
       "      <td>1.0000</td>\n",
       "      <td>0.5046</td>\n",
       "      <td>-0.1553</td>\n",
       "      <td>-0.0965</td>\n",
       "      <td>-0.1469</td>\n",
       "      <td>-0.0056</td>\n",
       "      <td>-0.1933</td>\n",
       "      <td>-0.4665</td>\n",
       "    </tr>\n",
       "    <tr>\n",
       "      <th>km</th>\n",
       "      <td>-0.5694</td>\n",
       "      <td>0.5046</td>\n",
       "      <td>1.0000</td>\n",
       "      <td>-0.3329</td>\n",
       "      <td>0.1038</td>\n",
       "      <td>-0.0352</td>\n",
       "      <td>0.0149</td>\n",
       "      <td>0.2833</td>\n",
       "      <td>-0.0240</td>\n",
       "    </tr>\n",
       "    <tr>\n",
       "      <th>hp</th>\n",
       "      <td>0.3141</td>\n",
       "      <td>-0.1553</td>\n",
       "      <td>-0.3329</td>\n",
       "      <td>1.0000</td>\n",
       "      <td>0.0352</td>\n",
       "      <td>0.0918</td>\n",
       "      <td>0.2096</td>\n",
       "      <td>-0.3023</td>\n",
       "      <td>0.0871</td>\n",
       "    </tr>\n",
       "    <tr>\n",
       "      <th>CC</th>\n",
       "      <td>0.1244</td>\n",
       "      <td>-0.0965</td>\n",
       "      <td>0.1038</td>\n",
       "      <td>0.0352</td>\n",
       "      <td>1.0000</td>\n",
       "      <td>0.0793</td>\n",
       "      <td>0.0147</td>\n",
       "      <td>0.3060</td>\n",
       "      <td>0.3351</td>\n",
       "    </tr>\n",
       "    <tr>\n",
       "      <th>DOORS</th>\n",
       "      <td>0.1836</td>\n",
       "      <td>-0.1469</td>\n",
       "      <td>-0.0352</td>\n",
       "      <td>0.0918</td>\n",
       "      <td>0.0793</td>\n",
       "      <td>1.0000</td>\n",
       "      <td>-0.1601</td>\n",
       "      <td>0.1074</td>\n",
       "      <td>0.3017</td>\n",
       "    </tr>\n",
       "    <tr>\n",
       "      <th>GEARS</th>\n",
       "      <td>0.0638</td>\n",
       "      <td>-0.0056</td>\n",
       "      <td>0.0149</td>\n",
       "      <td>0.2096</td>\n",
       "      <td>0.0147</td>\n",
       "      <td>-0.1601</td>\n",
       "      <td>1.0000</td>\n",
       "      <td>-0.0051</td>\n",
       "      <td>0.0212</td>\n",
       "    </tr>\n",
       "    <tr>\n",
       "      <th>QTax</th>\n",
       "      <td>0.2115</td>\n",
       "      <td>-0.1933</td>\n",
       "      <td>0.2833</td>\n",
       "      <td>-0.3023</td>\n",
       "      <td>0.3060</td>\n",
       "      <td>0.1074</td>\n",
       "      <td>-0.0051</td>\n",
       "      <td>1.0000</td>\n",
       "      <td>0.6220</td>\n",
       "    </tr>\n",
       "    <tr>\n",
       "      <th>WT</th>\n",
       "      <td>0.5759</td>\n",
       "      <td>-0.4665</td>\n",
       "      <td>-0.0240</td>\n",
       "      <td>0.0871</td>\n",
       "      <td>0.3351</td>\n",
       "      <td>0.3017</td>\n",
       "      <td>0.0212</td>\n",
       "      <td>0.6220</td>\n",
       "      <td>1.0000</td>\n",
       "    </tr>\n",
       "  </tbody>\n",
       "</table>\n",
       "</div>"
      ],
      "text/plain": [
       "           PR     Age      km      hp      CC   DOORS   GEARS    QTax      WT\n",
       "PR     1.0000 -0.8763 -0.5694  0.3141  0.1244  0.1836  0.0638  0.2115  0.5759\n",
       "Age   -0.8763  1.0000  0.5046 -0.1553 -0.0965 -0.1469 -0.0056 -0.1933 -0.4665\n",
       "km    -0.5694  0.5046  1.0000 -0.3329  0.1038 -0.0352  0.0149  0.2833 -0.0240\n",
       "hp     0.3141 -0.1553 -0.3329  1.0000  0.0352  0.0918  0.2096 -0.3023  0.0871\n",
       "CC     0.1244 -0.0965  0.1038  0.0352  1.0000  0.0793  0.0147  0.3060  0.3351\n",
       "DOORS  0.1836 -0.1469 -0.0352  0.0918  0.0793  1.0000 -0.1601  0.1074  0.3017\n",
       "GEARS  0.0638 -0.0056  0.0149  0.2096  0.0147 -0.1601  1.0000 -0.0051  0.0212\n",
       "QTax   0.2115 -0.1933  0.2833 -0.3023  0.3060  0.1074 -0.0051  1.0000  0.6220\n",
       "WT     0.5759 -0.4665 -0.0240  0.0871  0.3351  0.3017  0.0212  0.6220  1.0000"
      ]
     },
     "execution_count": 91,
     "metadata": {},
     "output_type": "execute_result"
    }
   ],
   "source": [
    "corelation=np.round(df_toyota.corr(),4)\n",
    "corelation"
   ]
  },
  {
   "cell_type": "code",
   "execution_count": 92,
   "id": "cc27b5b0",
   "metadata": {},
   "outputs": [
    {
     "data": {
      "image/png": "[encoded data removed]",
      "text/plain": [
       "<Figure size 432x288 with 2 Axes>"
      ]
     },
     "metadata": {
      "needs_background": "light"
     },
     "output_type": "display_data"
    }
   ],
   "source": [
    "sns.heatmap(data=corelation,vmax=1,vmin=-1,annot=True,mask=np.triu(corelation,1),cmap='plasma');"
   ]
  },
  {
   "cell_type": "markdown",
   "id": "c6db77db",
   "metadata": {},
   "source": [
    "### Model Building Default - Without any changes for data"
   ]
  },
  {
   "cell_type": "code",
   "execution_count": 93,
   "id": "941f2023",
   "metadata": {},
   "outputs": [
    {
     "data": {
      "text/html": [
       "<div>\n",
       "<style scoped>\n",
       "    .dataframe tbody tr th:only-of-type {\n",
       "        vertical-align: middle;\n",
       "    }\n",
       "\n",
       "    .dataframe tbody tr th {\n",
       "        vertical-align: top;\n",
       "    }\n",
       "\n",
       "    .dataframe thead th {\n",
       "        text-align: right;\n",
       "    }\n",
       "</style>\n",
       "<table border=\"1\" class=\"dataframe\">\n",
       "  <thead>\n",
       "    <tr style=\"text-align: right;\">\n",
       "      <th></th>\n",
       "      <th>PR</th>\n",
       "      <th>Age</th>\n",
       "      <th>km</th>\n",
       "      <th>hp</th>\n",
       "      <th>CC</th>\n",
       "      <th>DOORS</th>\n",
       "      <th>GEARS</th>\n",
       "      <th>QTax</th>\n",
       "      <th>WT</th>\n",
       "    </tr>\n",
       "  </thead>\n",
       "  <tbody>\n",
       "    <tr>\n",
       "      <th>0</th>\n",
       "      <td>13500</td>\n",
       "      <td>23</td>\n",
       "      <td>46986</td>\n",
       "      <td>90</td>\n",
       "      <td>2000</td>\n",
       "      <td>3</td>\n",
       "      <td>5</td>\n",
       "      <td>210</td>\n",
       "      <td>1165</td>\n",
       "    </tr>\n",
       "    <tr>\n",
       "      <th>1</th>\n",
       "      <td>13750</td>\n",
       "      <td>23</td>\n",
       "      <td>72937</td>\n",
       "      <td>90</td>\n",
       "      <td>2000</td>\n",
       "      <td>3</td>\n",
       "      <td>5</td>\n",
       "      <td>210</td>\n",
       "      <td>1165</td>\n",
       "    </tr>\n",
       "    <tr>\n",
       "      <th>2</th>\n",
       "      <td>13950</td>\n",
       "      <td>24</td>\n",
       "      <td>41711</td>\n",
       "      <td>90</td>\n",
       "      <td>2000</td>\n",
       "      <td>3</td>\n",
       "      <td>5</td>\n",
       "      <td>210</td>\n",
       "      <td>1165</td>\n",
       "    </tr>\n",
       "    <tr>\n",
       "      <th>3</th>\n",
       "      <td>14950</td>\n",
       "      <td>26</td>\n",
       "      <td>48000</td>\n",
       "      <td>90</td>\n",
       "      <td>2000</td>\n",
       "      <td>3</td>\n",
       "      <td>5</td>\n",
       "      <td>210</td>\n",
       "      <td>1165</td>\n",
       "    </tr>\n",
       "    <tr>\n",
       "      <th>4</th>\n",
       "      <td>13750</td>\n",
       "      <td>30</td>\n",
       "      <td>38500</td>\n",
       "      <td>90</td>\n",
       "      <td>2000</td>\n",
       "      <td>3</td>\n",
       "      <td>5</td>\n",
       "      <td>210</td>\n",
       "      <td>1170</td>\n",
       "    </tr>\n",
       "  </tbody>\n",
       "</table>\n",
       "</div>"
      ],
      "text/plain": [
       "      PR  Age     km  hp    CC  DOORS  GEARS  QTax    WT\n",
       "0  13500   23  46986  90  2000      3      5   210  1165\n",
       "1  13750   23  72937  90  2000      3      5   210  1165\n",
       "2  13950   24  41711  90  2000      3      5   210  1165\n",
       "3  14950   26  48000  90  2000      3      5   210  1165\n",
       "4  13750   30  38500  90  2000      3      5   210  1170"
      ]
     },
     "execution_count": 93,
     "metadata": {},
     "output_type": "execute_result"
    }
   ],
   "source": [
    "df_toyota.head()"
   ]
  },
  {
   "cell_type": "code",
   "execution_count": 94,
   "id": "d122bd9a",
   "metadata": {},
   "outputs": [
    {
     "name": "stdout",
     "output_type": "stream",
     "text": [
      "                            OLS Regression Results                            \n",
      "==============================================================================\n",
      "Dep. Variable:                     PR   R-squared:                       0.863\n",
      "Model:                            OLS   Adj. R-squared:                  0.862\n",
      "Method:                 Least Squares   F-statistic:                     1118.\n",
      "Date:                Mon, 06 Mar 2023   Prob (F-statistic):               0.00\n",
      "Time:                        11:38:23   Log-Likelihood:                -12366.\n",
      "No. Observations:                1435   AIC:                         2.475e+04\n",
      "Df Residuals:                    1426   BIC:                         2.480e+04\n",
      "Df Model:                           8                                         \n",
      "Covariance Type:            nonrobust                                         \n",
      "==============================================================================\n",
      "                 coef    std err          t      P>|t|      [0.025      0.975]\n",
      "------------------------------------------------------------------------------\n",
      "Intercept  -5472.5404   1412.169     -3.875      0.000   -8242.692   -2702.389\n",
      "Age         -121.7139      2.615    -46.552      0.000    -126.843    -116.585\n",
      "km            -0.0207      0.001    -16.552      0.000      -0.023      -0.018\n",
      "hp            31.5846      2.818     11.210      0.000      26.058      37.112\n",
      "CC            -0.1186      0.090     -1.316      0.188      -0.295       0.058\n",
      "DOORS         -0.9202     39.988     -0.023      0.982     -79.362      77.522\n",
      "GEARS        597.7159    196.969      3.035      0.002     211.335     984.097\n",
      "QTax           3.8588      1.311      2.944      0.003       1.288       6.430\n",
      "WT            16.8555      1.069     15.761      0.000      14.758      18.953\n",
      "==============================================================================\n",
      "Omnibus:                      149.666   Durbin-Watson:                   1.544\n",
      "Prob(Omnibus):                  0.000   Jarque-Bera (JB):             1000.538\n",
      "Skew:                          -0.204   Prob(JB):                    5.44e-218\n",
      "Kurtosis:                       7.070   Cond. No.                     3.13e+06\n",
      "==============================================================================\n",
      "\n",
      "Notes:\n",
      "[1] Standard Errors assume that the covariance matrix of the errors is correctly specified.\n",
      "[2] The condition number is large, 3.13e+06. This might indicate that there are\n",
      "strong multicollinearity or other numerical problems.\n"
     ]
    }
   ],
   "source": [
    "from statsmodels.formula.api import ols\n",
    "formula='PR ~ Age+km+hp+CC+DOORS+GEARS+QTax+WT'\n",
    "model_toyota=ols(formula=formula,data=df_toyota).fit()\n",
    "print(model_toyota.summary())"
   ]
  },
  {
   "cell_type": "code",
   "execution_count": 95,
   "id": "c51adfdf",
   "metadata": {},
   "outputs": [
    {
     "data": {
      "text/plain": [
       "Intercept   -5472.540368\n",
       "Age          -121.713891\n",
       "km             -0.020737\n",
       "hp             31.584612\n",
       "CC             -0.118558\n",
       "DOORS          -0.920189\n",
       "GEARS         597.715894\n",
       "QTax            3.858805\n",
       "WT             16.855470\n",
       "dtype: float64"
      ]
     },
     "execution_count": 95,
     "metadata": {},
     "output_type": "execute_result"
    }
   ],
   "source": [
    "model_toyota.params"
   ]
  },
  {
   "cell_type": "code",
   "execution_count": 96,
   "id": "36f6c28d",
   "metadata": {},
   "outputs": [
    {
     "data": {
      "text/plain": [
       "Intercept     1.113392e-04\n",
       "Age          1.879217e-288\n",
       "km            1.994713e-56\n",
       "hp            5.211155e-28\n",
       "CC            1.882393e-01\n",
       "DOORS         9.816443e-01\n",
       "GEARS         2.452430e-03\n",
       "QTax          3.290363e-03\n",
       "WT            1.031118e-51\n",
       "dtype: float64"
      ]
     },
     "execution_count": 96,
     "metadata": {},
     "output_type": "execute_result"
    }
   ],
   "source": [
    "model_toyota.pvalues"
   ]
  },
  {
   "cell_type": "code",
   "execution_count": 97,
   "id": "778752ba",
   "metadata": {},
   "outputs": [
    {
     "data": {
      "text/plain": [
       "0.8625200256947"
      ]
     },
     "execution_count": 97,
     "metadata": {},
     "output_type": "execute_result"
    }
   ],
   "source": [
    "model_toyota.rsquared"
   ]
  },
  {
   "cell_type": "markdown",
   "id": "d04d9fc8",
   "metadata": {},
   "source": [
    "### Model Building - Without any Outliers"
   ]
  },
  {
   "cell_type": "code",
   "execution_count": 98,
   "id": "71c94061",
   "metadata": {},
   "outputs": [
    {
     "name": "stdout",
     "output_type": "stream",
     "text": [
      "                            OLS Regression Results                            \n",
      "==============================================================================\n",
      "Dep. Variable:                     PR   R-squared:                       0.843\n",
      "Model:                            OLS   Adj. R-squared:                  0.842\n",
      "Method:                 Least Squares   F-statistic:                     1095.\n",
      "Date:                Mon, 06 Mar 2023   Prob (F-statistic):               0.00\n",
      "Time:                        11:38:23   Log-Likelihood:                -12461.\n",
      "No. Observations:                1435   AIC:                         2.494e+04\n",
      "Df Residuals:                    1427   BIC:                         2.498e+04\n",
      "Df Model:                           7                                         \n",
      "Covariance Type:            nonrobust                                         \n",
      "==============================================================================\n",
      "                 coef    std err          t      P>|t|      [0.025      0.975]\n",
      "------------------------------------------------------------------------------\n",
      "Intercept   -495.3490     69.585     -7.119      0.000    -631.850    -358.848\n",
      "Age         -120.9562      2.974    -40.672      0.000    -126.790    -115.122\n",
      "km            -0.0195      0.002    -12.861      0.000      -0.022      -0.016\n",
      "hp            39.3071      3.302     11.904      0.000      32.830      45.784\n",
      "CC            -2.8503      0.387     -7.364      0.000      -3.609      -2.091\n",
      "DOORS       -176.0056     45.211     -3.893      0.000    -264.692     -87.319\n",
      "GEARS      -2476.7452    347.927     -7.119      0.000   -3159.249   -1794.241\n",
      "QTax          14.8300      3.595      4.125      0.000       7.778      21.883\n",
      "WT            29.6602      2.008     14.768      0.000      25.721      33.600\n",
      "==============================================================================\n",
      "Omnibus:                      451.660   Durbin-Watson:                   1.476\n",
      "Prob(Omnibus):                  0.000   Jarque-Bera (JB):             4446.769\n",
      "Skew:                           1.172   Prob(JB):                         0.00\n",
      "Kurtosis:                      11.299   Cond. No.                     3.16e+20\n",
      "==============================================================================\n",
      "\n",
      "Notes:\n",
      "[1] Standard Errors assume that the covariance matrix of the errors is correctly specified.\n",
      "[2] The smallest eigenvalue is 8.3e-29. This might indicate that there are\n",
      "strong multicollinearity problems or that the design matrix is singular.\n"
     ]
    }
   ],
   "source": [
    "from statsmodels.formula.api import ols\n",
    "formula='PR ~ Age+km+hp+CC+DOORS+GEARS+QTax+WT'\n",
    "model_OUT=ols(formula=formula,data=df_toyota_NOUT).fit()\n",
    "print(model_OUT.summary())"
   ]
  },
  {
   "cell_type": "code",
   "execution_count": 99,
   "id": "d2f1e28f",
   "metadata": {},
   "outputs": [
    {
     "data": {
      "text/plain": [
       "Intercept    -495.349046\n",
       "Age          -120.956168\n",
       "km             -0.019454\n",
       "hp             39.307150\n",
       "CC             -2.850250\n",
       "DOORS        -176.005616\n",
       "GEARS       -2476.745230\n",
       "QTax           14.830033\n",
       "WT             29.660167\n",
       "dtype: float64"
      ]
     },
     "execution_count": 99,
     "metadata": {},
     "output_type": "execute_result"
    }
   ],
   "source": [
    "model_OUT.params"
   ]
  },
  {
   "cell_type": "code",
   "execution_count": 100,
   "id": "54fc33ef",
   "metadata": {},
   "outputs": [
    {
     "data": {
      "text/plain": [
       "Intercept     1.721949e-12\n",
       "Age          8.647119e-241\n",
       "km            6.792090e-36\n",
       "hp            3.203834e-31\n",
       "CC            3.001265e-13\n",
       "DOORS         1.035817e-04\n",
       "GEARS         1.721949e-12\n",
       "QTax          3.922488e-05\n",
       "WT            4.877853e-46\n",
       "dtype: float64"
      ]
     },
     "execution_count": 100,
     "metadata": {},
     "output_type": "execute_result"
    }
   ],
   "source": [
    "model_OUT.pvalues"
   ]
  },
  {
   "cell_type": "code",
   "execution_count": 101,
   "id": "665a866f",
   "metadata": {},
   "outputs": [
    {
     "data": {
      "text/plain": [
       "0.8430828132780728"
      ]
     },
     "execution_count": 101,
     "metadata": {},
     "output_type": "execute_result"
    }
   ],
   "source": [
    "model_OUT.rsquared"
   ]
  },
  {
   "cell_type": "markdown",
   "id": "6451e386",
   "metadata": {},
   "source": [
    "### Check for homoscedascity equatity of variance - residulas vs fitted values"
   ]
  },
  {
   "cell_type": "code",
   "execution_count": 102,
   "id": "ce3acde2",
   "metadata": {},
   "outputs": [
    {
     "data": {
      "image/png": "[encoded data removed]",
      "text/plain": [
       "<Figure size 432x288 with 1 Axes>"
      ]
     },
     "metadata": {
      "needs_background": "light"
     },
     "output_type": "display_data"
    }
   ],
   "source": [
    "plt.scatter(model_toyota.fittedvalues,model_toyota.resid)\n",
    "plt.xlabel('Fitted values')\n",
    "plt.ylabel('Residuals')\n",
    "plt.axhline(y=0,color='r',linestyle='-');"
   ]
  },
  {
   "cell_type": "markdown",
   "id": "a3e8f7e2",
   "metadata": {},
   "source": [
    "### Check for normality of errors or residuals -qqplot"
   ]
  },
  {
   "cell_type": "code",
   "execution_count": 103,
   "id": "73476fe4",
   "metadata": {},
   "outputs": [
    {
     "data": {
      "image/png": "[encoded data removed]",
      "text/plain": [
       "<Figure size 432x288 with 1 Axes>"
      ]
     },
     "metadata": {
      "needs_background": "light"
     },
     "output_type": "display_data"
    }
   ],
   "source": [
    "from statsmodels.api import qqplot\n",
    "qqplot(model_toyota.resid,line='s');"
   ]
  },
  {
   "cell_type": "code",
   "execution_count": 104,
   "id": "6a6b08a4",
   "metadata": {},
   "outputs": [
    {
     "data": {
      "text/plain": [
       "(array([109, 146, 190, 191, 220, 392, 401, 522, 600, 653, 959], dtype=int64),)"
      ]
     },
     "execution_count": 104,
     "metadata": {},
     "output_type": "execute_result"
    }
   ],
   "source": [
    "index_no=np.where((model_toyota.resid<-4000) | (model_toyota.resid>6000))\n",
    "index_no"
   ]
  },
  {
   "cell_type": "code",
   "execution_count": 105,
   "id": "bfb3faca",
   "metadata": {},
   "outputs": [
    {
     "data": {
      "text/html": [
       "<div>\n",
       "<style scoped>\n",
       "    .dataframe tbody tr th:only-of-type {\n",
       "        vertical-align: middle;\n",
       "    }\n",
       "\n",
       "    .dataframe tbody tr th {\n",
       "        vertical-align: top;\n",
       "    }\n",
       "\n",
       "    .dataframe thead th {\n",
       "        text-align: right;\n",
       "    }\n",
       "</style>\n",
       "<table border=\"1\" class=\"dataframe\">\n",
       "  <thead>\n",
       "    <tr style=\"text-align: right;\">\n",
       "      <th></th>\n",
       "      <th>PR</th>\n",
       "      <th>Age</th>\n",
       "      <th>km</th>\n",
       "      <th>hp</th>\n",
       "      <th>CC</th>\n",
       "      <th>DOORS</th>\n",
       "      <th>GEARS</th>\n",
       "      <th>QTax</th>\n",
       "      <th>WT</th>\n",
       "    </tr>\n",
       "  </thead>\n",
       "  <tbody>\n",
       "    <tr>\n",
       "      <th>109</th>\n",
       "      <td>32500</td>\n",
       "      <td>4</td>\n",
       "      <td>1</td>\n",
       "      <td>116</td>\n",
       "      <td>2000</td>\n",
       "      <td>5</td>\n",
       "      <td>5</td>\n",
       "      <td>283</td>\n",
       "      <td>1480</td>\n",
       "    </tr>\n",
       "    <tr>\n",
       "      <th>146</th>\n",
       "      <td>24500</td>\n",
       "      <td>13</td>\n",
       "      <td>19988</td>\n",
       "      <td>110</td>\n",
       "      <td>1600</td>\n",
       "      <td>5</td>\n",
       "      <td>5</td>\n",
       "      <td>85</td>\n",
       "      <td>1130</td>\n",
       "    </tr>\n",
       "    <tr>\n",
       "      <th>190</th>\n",
       "      <td>4350</td>\n",
       "      <td>44</td>\n",
       "      <td>158320</td>\n",
       "      <td>69</td>\n",
       "      <td>1800</td>\n",
       "      <td>5</td>\n",
       "      <td>5</td>\n",
       "      <td>64</td>\n",
       "      <td>1110</td>\n",
       "    </tr>\n",
       "    <tr>\n",
       "      <th>191</th>\n",
       "      <td>4750</td>\n",
       "      <td>44</td>\n",
       "      <td>131273</td>\n",
       "      <td>69</td>\n",
       "      <td>1800</td>\n",
       "      <td>5</td>\n",
       "      <td>5</td>\n",
       "      <td>64</td>\n",
       "      <td>1110</td>\n",
       "    </tr>\n",
       "    <tr>\n",
       "      <th>220</th>\n",
       "      <td>12450</td>\n",
       "      <td>44</td>\n",
       "      <td>74172</td>\n",
       "      <td>110</td>\n",
       "      <td>1600</td>\n",
       "      <td>5</td>\n",
       "      <td>5</td>\n",
       "      <td>163</td>\n",
       "      <td>1615</td>\n",
       "    </tr>\n",
       "    <tr>\n",
       "      <th>392</th>\n",
       "      <td>4450</td>\n",
       "      <td>56</td>\n",
       "      <td>129155</td>\n",
       "      <td>69</td>\n",
       "      <td>1800</td>\n",
       "      <td>5</td>\n",
       "      <td>5</td>\n",
       "      <td>64</td>\n",
       "      <td>1110</td>\n",
       "    </tr>\n",
       "    <tr>\n",
       "      <th>401</th>\n",
       "      <td>5150</td>\n",
       "      <td>56</td>\n",
       "      <td>113997</td>\n",
       "      <td>72</td>\n",
       "      <td>2000</td>\n",
       "      <td>5</td>\n",
       "      <td>5</td>\n",
       "      <td>64</td>\n",
       "      <td>1135</td>\n",
       "    </tr>\n",
       "    <tr>\n",
       "      <th>522</th>\n",
       "      <td>18950</td>\n",
       "      <td>49</td>\n",
       "      <td>49568</td>\n",
       "      <td>110</td>\n",
       "      <td>1600</td>\n",
       "      <td>3</td>\n",
       "      <td>5</td>\n",
       "      <td>19</td>\n",
       "      <td>1105</td>\n",
       "    </tr>\n",
       "    <tr>\n",
       "      <th>600</th>\n",
       "      <td>7500</td>\n",
       "      <td>50</td>\n",
       "      <td>1</td>\n",
       "      <td>90</td>\n",
       "      <td>2000</td>\n",
       "      <td>3</td>\n",
       "      <td>5</td>\n",
       "      <td>64</td>\n",
       "      <td>1260</td>\n",
       "    </tr>\n",
       "    <tr>\n",
       "      <th>653</th>\n",
       "      <td>6950</td>\n",
       "      <td>65</td>\n",
       "      <td>114383</td>\n",
       "      <td>90</td>\n",
       "      <td>2000</td>\n",
       "      <td>3</td>\n",
       "      <td>5</td>\n",
       "      <td>64</td>\n",
       "      <td>1260</td>\n",
       "    </tr>\n",
       "    <tr>\n",
       "      <th>959</th>\n",
       "      <td>9390</td>\n",
       "      <td>66</td>\n",
       "      <td>50806</td>\n",
       "      <td>86</td>\n",
       "      <td>1300</td>\n",
       "      <td>3</td>\n",
       "      <td>5</td>\n",
       "      <td>19</td>\n",
       "      <td>1480</td>\n",
       "    </tr>\n",
       "  </tbody>\n",
       "</table>\n",
       "</div>"
      ],
      "text/plain": [
       "        PR  Age      km   hp    CC  DOORS  GEARS  QTax    WT\n",
       "109  32500    4       1  116  2000      5      5   283  1480\n",
       "146  24500   13   19988  110  1600      5      5    85  1130\n",
       "190   4350   44  158320   69  1800      5      5    64  1110\n",
       "191   4750   44  131273   69  1800      5      5    64  1110\n",
       "220  12450   44   74172  110  1600      5      5   163  1615\n",
       "392   4450   56  129155   69  1800      5      5    64  1110\n",
       "401   5150   56  113997   72  2000      5      5    64  1135\n",
       "522  18950   49   49568  110  1600      3      5    19  1105\n",
       "600   7500   50       1   90  2000      3      5    64  1260\n",
       "653   6950   65  114383   90  2000      3      5    64  1260\n",
       "959   9390   66   50806   86  1300      3      5    19  1480"
      ]
     },
     "execution_count": 105,
     "metadata": {},
     "output_type": "execute_result"
    }
   ],
   "source": [
    "df_toyota[df_toyota.index.isin(index_no[0])]"
   ]
  },
  {
   "cell_type": "code",
   "execution_count": 106,
   "id": "46400046",
   "metadata": {},
   "outputs": [
    {
     "data": {
      "text/plain": [
       "(1435, 9)"
      ]
     },
     "execution_count": 106,
     "metadata": {},
     "output_type": "execute_result"
    }
   ],
   "source": [
    "df_toyota.shape"
   ]
  },
  {
   "cell_type": "code",
   "execution_count": 107,
   "id": "e87e106d",
   "metadata": {},
   "outputs": [],
   "source": [
    "df_toyota_qqplot_residual=df_toyota.drop(index_no[0],axis=0).reset_index(drop=True)"
   ]
  },
  {
   "cell_type": "code",
   "execution_count": 108,
   "id": "8a460776",
   "metadata": {},
   "outputs": [
    {
     "data": {
      "text/plain": [
       "(1424, 9)"
      ]
     },
     "execution_count": 108,
     "metadata": {},
     "output_type": "execute_result"
    }
   ],
   "source": [
    "df_toyota_qqplot_residual.shape"
   ]
  },
  {
   "cell_type": "code",
   "execution_count": 109,
   "id": "e7380ca1",
   "metadata": {},
   "outputs": [],
   "source": [
    "formula='PR ~ Age+km+hp+CC+DOORS+GEARS+QTax+WT'"
   ]
  },
  {
   "cell_type": "code",
   "execution_count": 110,
   "id": "118210a5",
   "metadata": {},
   "outputs": [],
   "source": [
    "model_qqplot_toyota=ols(formula=formula,data=df_toyota_qqplot_residual).fit()"
   ]
  },
  {
   "cell_type": "code",
   "execution_count": 111,
   "id": "8e42838d",
   "metadata": {},
   "outputs": [
    {
     "data": {
      "text/plain": [
       "Intercept   -14576.020743\n",
       "Age           -114.306161\n",
       "km              -0.020194\n",
       "hp              19.767719\n",
       "CC              -0.185527\n",
       "DOORS          -83.619721\n",
       "GEARS          636.246918\n",
       "QTax            -5.063814\n",
       "WT              27.028129\n",
       "dtype: float64"
      ]
     },
     "execution_count": 111,
     "metadata": {},
     "output_type": "execute_result"
    }
   ],
   "source": [
    "model_qqplot_toyota.params"
   ]
  },
  {
   "cell_type": "code",
   "execution_count": 112,
   "id": "0010fd16",
   "metadata": {},
   "outputs": [
    {
     "data": {
      "text/plain": [
       "Intercept     1.666674e-23\n",
       "Age          5.889887e-292\n",
       "km            2.218434e-64\n",
       "hp            7.582355e-14\n",
       "CC            2.216772e-02\n",
       "DOORS         2.235591e-02\n",
       "GEARS         3.050174e-04\n",
       "QTax          1.130903e-04\n",
       "WT            2.536283e-93\n",
       "dtype: float64"
      ]
     },
     "execution_count": 112,
     "metadata": {},
     "output_type": "execute_result"
    }
   ],
   "source": [
    "model_qqplot_toyota.pvalues"
   ]
  },
  {
   "cell_type": "code",
   "execution_count": 113,
   "id": "7e092d02",
   "metadata": {},
   "outputs": [
    {
     "data": {
      "text/plain": [
       "0.8859785598477082"
      ]
     },
     "execution_count": 113,
     "metadata": {},
     "output_type": "execute_result"
    }
   ],
   "source": [
    "model_qqplot_toyota.rsquared"
   ]
  },
  {
   "cell_type": "markdown",
   "id": "29aabc32",
   "metadata": {},
   "source": [
    "## Influence Plot - this shows which observatoins or rows which are having high influence on the models prediction"
   ]
  },
  {
   "cell_type": "code",
   "execution_count": 114,
   "id": "4ad65a54",
   "metadata": {},
   "outputs": [
    {
     "data": {
      "image/png": "[encoded data removed]",
      "text/plain": [
       "<Figure size 432x288 with 1 Axes>"
      ]
     },
     "metadata": {
      "needs_background": "light"
     },
     "output_type": "display_data"
    }
   ],
   "source": [
    "from statsmodels.graphics.regressionplots import influence_plot\n",
    "influence_plot(model_toyota);\n"
   ]
  },
  {
   "cell_type": "code",
   "execution_count": 115,
   "id": "4f7b2cfd",
   "metadata": {},
   "outputs": [],
   "source": [
    "toyota_df_Influence_plot=df_toyota.drop([80],axis=0).reset_index(drop=True)"
   ]
  },
  {
   "cell_type": "code",
   "execution_count": 116,
   "id": "65fb7f9b",
   "metadata": {},
   "outputs": [
    {
     "data": {
      "text/plain": [
       "(1434, 9)"
      ]
     },
     "execution_count": 116,
     "metadata": {},
     "output_type": "execute_result"
    }
   ],
   "source": [
    "toyota_df_Influence_plot.shape"
   ]
  },
  {
   "cell_type": "code",
   "execution_count": 117,
   "id": "258bec1e",
   "metadata": {},
   "outputs": [],
   "source": [
    "formula='PR ~ Age+km+hp+CC+DOORS+GEARS+QTax+WT'"
   ]
  },
  {
   "cell_type": "code",
   "execution_count": 118,
   "id": "b972580b",
   "metadata": {},
   "outputs": [],
   "source": [
    "model_toyota_InfluencePlot=ols(formula=formula,data=toyota_df_Influence_plot).fit()"
   ]
  },
  {
   "cell_type": "code",
   "execution_count": 119,
   "id": "ba07a02c",
   "metadata": {},
   "outputs": [
    {
     "data": {
      "text/plain": [
       "Intercept   -6197.933399\n",
       "Age          -120.507430\n",
       "km             -0.017799\n",
       "hp             39.224550\n",
       "CC             -2.508791\n",
       "DOORS         -26.512930\n",
       "GEARS         527.129216\n",
       "QTax            8.941399\n",
       "WT             20.062713\n",
       "dtype: float64"
      ]
     },
     "execution_count": 119,
     "metadata": {},
     "output_type": "execute_result"
    }
   ],
   "source": [
    "model_toyota_InfluencePlot.params"
   ]
  },
  {
   "cell_type": "code",
   "execution_count": 120,
   "id": "d5eb05f2",
   "metadata": {},
   "outputs": [
    {
     "data": {
      "text/plain": [
       "Intercept     8.123945e-06\n",
       "Age          2.336818e-292\n",
       "km            1.868674e-41\n",
       "hp            5.123463e-39\n",
       "CC            7.178158e-16\n",
       "DOORS         4.993149e-01\n",
       "GEARS         6.341805e-03\n",
       "QTax          4.846286e-10\n",
       "WT            4.509449e-65\n",
       "dtype: float64"
      ]
     },
     "execution_count": 120,
     "metadata": {},
     "output_type": "execute_result"
    }
   ],
   "source": [
    "model_toyota_InfluencePlot.pvalues"
   ]
  },
  {
   "cell_type": "code",
   "execution_count": 121,
   "id": "4cf092fb",
   "metadata": {},
   "outputs": [
    {
     "data": {
      "text/plain": [
       "0.8681163912634053"
      ]
     },
     "execution_count": 121,
     "metadata": {},
     "output_type": "execute_result"
    }
   ],
   "source": [
    "model_toyota_InfluencePlot.rsquared"
   ]
  },
  {
   "cell_type": "markdown",
   "id": "3b98832a",
   "metadata": {},
   "source": [
    "### Cooks Distance"
   ]
  },
  {
   "cell_type": "code",
   "execution_count": 122,
   "id": "23841dcd",
   "metadata": {},
   "outputs": [
    {
     "data": {
      "text/plain": [
       "array([7.22221054e-03, 3.94547973e-03, 5.44224039e-03, ...,\n",
       "       8.04110550e-07, 6.99854767e-04, 1.08408002e-02])"
      ]
     },
     "execution_count": 122,
     "metadata": {},
     "output_type": "execute_result"
    }
   ],
   "source": [
    "model_influence=model_toyota.get_influence()\n",
    "(c,_)=model_influence.cooks_distance\n",
    "c"
   ]
  },
  {
   "cell_type": "code",
   "execution_count": 123,
   "id": "91c082fb",
   "metadata": {},
   "outputs": [
    {
     "data": {
      "image/png": "[encoded data removed]",
      "text/plain": [
       "<Figure size 1440x504 with 1 Axes>"
      ]
     },
     "metadata": {
      "needs_background": "light"
     },
     "output_type": "display_data"
    }
   ],
   "source": [
    "fig=plt.subplots(figsize=(20,7))\n",
    "plt.stem(np.arange(len(df_toyota)),np.round(c,3))\n",
    "plt.xlabel('Row Index')\n",
    "plt.ylabel('Cooks distance');"
   ]
  },
  {
   "cell_type": "code",
   "execution_count": 124,
   "id": "190828f5",
   "metadata": {},
   "outputs": [
    {
     "data": {
      "text/plain": [
       "0.0027874564459930314"
      ]
     },
     "execution_count": 124,
     "metadata": {},
     "output_type": "execute_result"
    }
   ],
   "source": [
    "alpha=4/len(df_toyota)\n",
    "alpha"
   ]
  },
  {
   "cell_type": "code",
   "execution_count": 125,
   "id": "76afbe0c",
   "metadata": {},
   "outputs": [
    {
     "data": {
      "text/plain": [
       "array([   0,    1,    2,    4,    5,    7,    8,   12,   13,   14,   15,\n",
       "         16,   30,   49,   52,   53,   68,   74,   80,   89,   91,  109,\n",
       "        110,  111,  112,  114,  118,  124,  137,  140,  146,  153,  160,\n",
       "        170,  173,  177,  178,  185,  186,  188,  190,  191,  202,  208,\n",
       "        220,  222,  253,  329,  378,  386,  387,  392,  401,  411,  457,\n",
       "        462,  486,  522,  600,  614,  616,  653,  695,  729,  810,  912,\n",
       "        959,  990, 1053, 1057, 1058, 1071, 1078, 1108, 1401, 1425, 1434],\n",
       "      dtype=int64)"
      ]
     },
     "execution_count": 125,
     "metadata": {},
     "output_type": "execute_result"
    }
   ],
   "source": [
    "np.where(c>alpha)[0] "
   ]
  },
  {
   "cell_type": "code",
   "execution_count": 126,
   "id": "c742029e",
   "metadata": {},
   "outputs": [],
   "source": [
    "toyota_df_cooks_distance=df_toyota.drop(np.where(c>alpha)[0],axis=0).reset_index(drop=True)"
   ]
  },
  {
   "cell_type": "code",
   "execution_count": 127,
   "id": "dd85a900",
   "metadata": {},
   "outputs": [
    {
     "data": {
      "text/plain": [
       "(1358, 9)"
      ]
     },
     "execution_count": 127,
     "metadata": {},
     "output_type": "execute_result"
    }
   ],
   "source": [
    "toyota_df_cooks_distance.shape"
   ]
  },
  {
   "cell_type": "code",
   "execution_count": 128,
   "id": "57e8e064",
   "metadata": {},
   "outputs": [],
   "source": [
    "formula='PR ~ Age+km+hp+CC+DOORS+GEARS+QTax+WT'"
   ]
  },
  {
   "cell_type": "code",
   "execution_count": 129,
   "id": "ce35a680",
   "metadata": {},
   "outputs": [],
   "source": [
    "model_toyota_cooks_distance=ols(formula=formula,data=toyota_df_cooks_distance).fit()"
   ]
  },
  {
   "cell_type": "code",
   "execution_count": 130,
   "id": "133888f9",
   "metadata": {},
   "outputs": [
    {
     "data": {
      "text/plain": [
       "Intercept   -12157.352759\n",
       "Age           -112.523238\n",
       "km              -0.016606\n",
       "hp              20.689125\n",
       "CC              -2.596650\n",
       "DOORS         -108.611390\n",
       "GEARS          347.135896\n",
       "QTax            -0.101121\n",
       "WT              28.898969\n",
       "dtype: float64"
      ]
     },
     "execution_count": 130,
     "metadata": {},
     "output_type": "execute_result"
    }
   ],
   "source": [
    "model_toyota_cooks_distance.params"
   ]
  },
  {
   "cell_type": "code",
   "execution_count": 131,
   "id": "fd98e588",
   "metadata": {},
   "outputs": [
    {
     "data": {
      "text/plain": [
       "Intercept     3.898104e-16\n",
       "Age          2.381668e-315\n",
       "km            2.683549e-50\n",
       "hp            4.076828e-12\n",
       "CC            2.550334e-18\n",
       "DOORS         1.292585e-03\n",
       "GEARS         4.695442e-02\n",
       "QTax          9.428919e-01\n",
       "WT            2.292748e-85\n",
       "dtype: float64"
      ]
     },
     "execution_count": 131,
     "metadata": {},
     "output_type": "execute_result"
    }
   ],
   "source": [
    "model_toyota_cooks_distance.pvalues"
   ]
  },
  {
   "cell_type": "code",
   "execution_count": 132,
   "id": "4d02a4b0",
   "metadata": {},
   "outputs": [
    {
     "data": {
      "text/plain": [
       "0.8924810976766351"
      ]
     },
     "execution_count": 132,
     "metadata": {},
     "output_type": "execute_result"
    }
   ],
   "source": [
    "model_toyota_cooks_distance.rsquared"
   ]
  },
  {
   "cell_type": "markdown",
   "id": "fb6aa676",
   "metadata": {},
   "source": [
    "### VIF- Variance Inflation Factor- Check for multicollinearity btw independent features"
   ]
  },
  {
   "cell_type": "code",
   "execution_count": 133,
   "id": "8b048b70",
   "metadata": {},
   "outputs": [],
   "source": [
    "from statsmodels.stats.outliers_influence import variance_inflation_factor"
   ]
  },
  {
   "cell_type": "code",
   "execution_count": 134,
   "id": "7d0abaf8",
   "metadata": {},
   "outputs": [],
   "source": [
    "toyota_df_VIF=df_toyota.drop('PR',axis=1) "
   ]
  },
  {
   "cell_type": "code",
   "execution_count": 135,
   "id": "bbbbb6fa",
   "metadata": {},
   "outputs": [
    {
     "data": {
      "text/html": [
       "<div>\n",
       "<style scoped>\n",
       "    .dataframe tbody tr th:only-of-type {\n",
       "        vertical-align: middle;\n",
       "    }\n",
       "\n",
       "    .dataframe tbody tr th {\n",
       "        vertical-align: top;\n",
       "    }\n",
       "\n",
       "    .dataframe thead th {\n",
       "        text-align: right;\n",
       "    }\n",
       "</style>\n",
       "<table border=\"1\" class=\"dataframe\">\n",
       "  <thead>\n",
       "    <tr style=\"text-align: right;\">\n",
       "      <th></th>\n",
       "      <th>Age</th>\n",
       "      <th>km</th>\n",
       "      <th>hp</th>\n",
       "      <th>CC</th>\n",
       "      <th>DOORS</th>\n",
       "      <th>GEARS</th>\n",
       "      <th>QTax</th>\n",
       "      <th>WT</th>\n",
       "    </tr>\n",
       "  </thead>\n",
       "  <tbody>\n",
       "    <tr>\n",
       "      <th>0</th>\n",
       "      <td>23</td>\n",
       "      <td>46986</td>\n",
       "      <td>90</td>\n",
       "      <td>2000</td>\n",
       "      <td>3</td>\n",
       "      <td>5</td>\n",
       "      <td>210</td>\n",
       "      <td>1165</td>\n",
       "    </tr>\n",
       "    <tr>\n",
       "      <th>1</th>\n",
       "      <td>23</td>\n",
       "      <td>72937</td>\n",
       "      <td>90</td>\n",
       "      <td>2000</td>\n",
       "      <td>3</td>\n",
       "      <td>5</td>\n",
       "      <td>210</td>\n",
       "      <td>1165</td>\n",
       "    </tr>\n",
       "    <tr>\n",
       "      <th>2</th>\n",
       "      <td>24</td>\n",
       "      <td>41711</td>\n",
       "      <td>90</td>\n",
       "      <td>2000</td>\n",
       "      <td>3</td>\n",
       "      <td>5</td>\n",
       "      <td>210</td>\n",
       "      <td>1165</td>\n",
       "    </tr>\n",
       "    <tr>\n",
       "      <th>3</th>\n",
       "      <td>26</td>\n",
       "      <td>48000</td>\n",
       "      <td>90</td>\n",
       "      <td>2000</td>\n",
       "      <td>3</td>\n",
       "      <td>5</td>\n",
       "      <td>210</td>\n",
       "      <td>1165</td>\n",
       "    </tr>\n",
       "    <tr>\n",
       "      <th>4</th>\n",
       "      <td>30</td>\n",
       "      <td>38500</td>\n",
       "      <td>90</td>\n",
       "      <td>2000</td>\n",
       "      <td>3</td>\n",
       "      <td>5</td>\n",
       "      <td>210</td>\n",
       "      <td>1170</td>\n",
       "    </tr>\n",
       "  </tbody>\n",
       "</table>\n",
       "</div>"
      ],
      "text/plain": [
       "   Age     km  hp    CC  DOORS  GEARS  QTax    WT\n",
       "0   23  46986  90  2000      3      5   210  1165\n",
       "1   23  72937  90  2000      3      5   210  1165\n",
       "2   24  41711  90  2000      3      5   210  1165\n",
       "3   26  48000  90  2000      3      5   210  1165\n",
       "4   30  38500  90  2000      3      5   210  1170"
      ]
     },
     "execution_count": 135,
     "metadata": {},
     "output_type": "execute_result"
    }
   ],
   "source": [
    "toyota_df_VIF.head()"
   ]
  },
  {
   "cell_type": "code",
   "execution_count": 136,
   "id": "1320c09e",
   "metadata": {},
   "outputs": [
    {
     "data": {
      "text/plain": [
       "(1435, 8)"
      ]
     },
     "execution_count": 136,
     "metadata": {},
     "output_type": "execute_result"
    }
   ],
   "source": [
    "toyota_df_VIF.shape"
   ]
  },
  {
   "cell_type": "code",
   "execution_count": 137,
   "id": "65f71eda",
   "metadata": {},
   "outputs": [
    {
     "data": {
      "text/html": [
       "<div>\n",
       "<style scoped>\n",
       "    .dataframe tbody tr th:only-of-type {\n",
       "        vertical-align: middle;\n",
       "    }\n",
       "\n",
       "    .dataframe tbody tr th {\n",
       "        vertical-align: top;\n",
       "    }\n",
       "\n",
       "    .dataframe thead th {\n",
       "        text-align: right;\n",
       "    }\n",
       "</style>\n",
       "<table border=\"1\" class=\"dataframe\">\n",
       "  <thead>\n",
       "    <tr style=\"text-align: right;\">\n",
       "      <th></th>\n",
       "      <th>VIFFactor</th>\n",
       "      <th>Features</th>\n",
       "    </tr>\n",
       "  </thead>\n",
       "  <tbody>\n",
       "    <tr>\n",
       "      <th>0</th>\n",
       "      <td>16.392665</td>\n",
       "      <td>Age</td>\n",
       "    </tr>\n",
       "    <tr>\n",
       "      <th>1</th>\n",
       "      <td>7.601207</td>\n",
       "      <td>km</td>\n",
       "    </tr>\n",
       "    <tr>\n",
       "      <th>2</th>\n",
       "      <td>64.894446</td>\n",
       "      <td>hp</td>\n",
       "    </tr>\n",
       "    <tr>\n",
       "      <th>3</th>\n",
       "      <td>17.186097</td>\n",
       "      <td>CC</td>\n",
       "    </tr>\n",
       "    <tr>\n",
       "      <th>4</th>\n",
       "      <td>21.856114</td>\n",
       "      <td>DOORS</td>\n",
       "    </tr>\n",
       "    <tr>\n",
       "      <th>5</th>\n",
       "      <td>439.672599</td>\n",
       "      <td>GEARS</td>\n",
       "    </tr>\n",
       "    <tr>\n",
       "      <th>6</th>\n",
       "      <td>11.021647</td>\n",
       "      <td>QTax</td>\n",
       "    </tr>\n",
       "    <tr>\n",
       "      <th>7</th>\n",
       "      <td>543.522036</td>\n",
       "      <td>WT</td>\n",
       "    </tr>\n",
       "  </tbody>\n",
       "</table>\n",
       "</div>"
      ],
      "text/plain": [
       "    VIFFactor Features\n",
       "0   16.392665      Age\n",
       "1    7.601207       km\n",
       "2   64.894446       hp\n",
       "3   17.186097       CC\n",
       "4   21.856114    DOORS\n",
       "5  439.672599    GEARS\n",
       "6   11.021647     QTax\n",
       "7  543.522036       WT"
      ]
     },
     "execution_count": 137,
     "metadata": {},
     "output_type": "execute_result"
    }
   ],
   "source": [
    "vif=pd.DataFrame()\n",
    "vif['VIFFactor']=[variance_inflation_factor(toyota_df_VIF.values,i) for i in range(toyota_df_VIF.shape[1])]\n",
    "vif['Features']=toyota_df_VIF.columns\n",
    "vif"
   ]
  },
  {
   "cell_type": "markdown",
   "id": "5ff68584",
   "metadata": {},
   "source": [
    "### Removing hp and gears and weight as it has higher VIF values and building model"
   ]
  },
  {
   "cell_type": "code",
   "execution_count": 138,
   "id": "e3cafb29",
   "metadata": {},
   "outputs": [],
   "source": [
    "formula='PR ~ Age+km+CC+DOORS+QTax'\n",
    "\n",
    "model_toyota_VIF=ols(formula=formula,data=df_toyota).fit()"
   ]
  },
  {
   "cell_type": "code",
   "execution_count": 139,
   "id": "91da6976",
   "metadata": {},
   "outputs": [
    {
     "data": {
      "text/plain": [
       "Intercept    17858.424888\n",
       "Age           -139.363485\n",
       "km              -0.023602\n",
       "CC               0.324425\n",
       "DOORS          201.523943\n",
       "QTax            11.013398\n",
       "dtype: float64"
      ]
     },
     "execution_count": 139,
     "metadata": {},
     "output_type": "execute_result"
    }
   ],
   "source": [
    "model_toyota_VIF.params"
   ]
  },
  {
   "cell_type": "code",
   "execution_count": 140,
   "id": "5d6f762e",
   "metadata": {},
   "outputs": [
    {
     "data": {
      "text/plain": [
       "Intercept     0.000000e+00\n",
       "Age          2.490379e-304\n",
       "km            4.743022e-55\n",
       "CC            1.784096e-03\n",
       "DOORS         6.413209e-06\n",
       "QTax          1.605996e-19\n",
       "dtype: float64"
      ]
     },
     "execution_count": 140,
     "metadata": {},
     "output_type": "execute_result"
    }
   ],
   "source": [
    "model_toyota_VIF.pvalues"
   ]
  },
  {
   "cell_type": "code",
   "execution_count": 141,
   "id": "696464e9",
   "metadata": {},
   "outputs": [
    {
     "data": {
      "text/plain": [
       "0.8087620773625505"
      ]
     },
     "execution_count": 141,
     "metadata": {},
     "output_type": "execute_result"
    }
   ],
   "source": [
    "model_toyota_VIF.rsquared"
   ]
  },
  {
   "cell_type": "markdown",
   "id": "309a654c",
   "metadata": {},
   "source": [
    "## RSQUARE TABLE"
   ]
  },
  {
   "cell_type": "code",
   "execution_count": 142,
   "id": "9d2e13f1",
   "metadata": {},
   "outputs": [
    {
     "data": {
      "text/html": [
       "<div>\n",
       "<style scoped>\n",
       "    .dataframe tbody tr th:only-of-type {\n",
       "        vertical-align: middle;\n",
       "    }\n",
       "\n",
       "    .dataframe tbody tr th {\n",
       "        vertical-align: top;\n",
       "    }\n",
       "\n",
       "    .dataframe thead th {\n",
       "        text-align: right;\n",
       "    }\n",
       "</style>\n",
       "<table border=\"1\" class=\"dataframe\">\n",
       "  <thead>\n",
       "    <tr style=\"text-align: right;\">\n",
       "      <th></th>\n",
       "      <th>Models</th>\n",
       "      <th>RSQUAREValue</th>\n",
       "    </tr>\n",
       "  </thead>\n",
       "  <tbody>\n",
       "    <tr>\n",
       "      <th>0</th>\n",
       "      <td>CooksDistance</td>\n",
       "      <td>0.892481</td>\n",
       "    </tr>\n",
       "    <tr>\n",
       "      <th>1</th>\n",
       "      <td>QQPlot</td>\n",
       "      <td>0.885979</td>\n",
       "    </tr>\n",
       "    <tr>\n",
       "      <th>2</th>\n",
       "      <td>InfluencePlot</td>\n",
       "      <td>0.868116</td>\n",
       "    </tr>\n",
       "    <tr>\n",
       "      <th>3</th>\n",
       "      <td>Default</td>\n",
       "      <td>0.862520</td>\n",
       "    </tr>\n",
       "    <tr>\n",
       "      <th>4</th>\n",
       "      <td>NoOutliers</td>\n",
       "      <td>0.843083</td>\n",
       "    </tr>\n",
       "    <tr>\n",
       "      <th>5</th>\n",
       "      <td>VIF</td>\n",
       "      <td>0.808762</td>\n",
       "    </tr>\n",
       "  </tbody>\n",
       "</table>\n",
       "</div>"
      ],
      "text/plain": [
       "          Models  RSQUAREValue\n",
       "0  CooksDistance      0.892481\n",
       "1         QQPlot      0.885979\n",
       "2  InfluencePlot      0.868116\n",
       "3        Default      0.862520\n",
       "4     NoOutliers      0.843083\n",
       "5            VIF      0.808762"
      ]
     },
     "execution_count": 142,
     "metadata": {},
     "output_type": "execute_result"
    }
   ],
   "source": [
    "Rsquare=pd.DataFrame()\n",
    "Rsquare[\"Models\"]=[\"CooksDistance\",\"QQPlot\",\"InfluencePlot\",\"Default\",\"NoOutliers\",\"VIF\"]\n",
    "Rsquare[\"RSQUAREValue\"]=[model_toyota_cooks_distance.rsquared,model_qqplot_toyota.rsquared,\n",
    "                         model_toyota_InfluencePlot.rsquared,\n",
    "                         model_toyota.rsquared,model_OUT.rsquared,model_toyota_VIF.rsquared]\n",
    "Rsquare"
   ]
  },
  {
   "cell_type": "markdown",
   "id": "42ccb3cf",
   "metadata": {},
   "source": [
    "### Model Predictions-Sample New Data"
   ]
  },
  {
   "cell_type": "code",
   "execution_count": 143,
   "id": "66e439c6",
   "metadata": {},
   "outputs": [
    {
     "data": {
      "text/html": [
       "<div>\n",
       "<style scoped>\n",
       "    .dataframe tbody tr th:only-of-type {\n",
       "        vertical-align: middle;\n",
       "    }\n",
       "\n",
       "    .dataframe tbody tr th {\n",
       "        vertical-align: top;\n",
       "    }\n",
       "\n",
       "    .dataframe thead th {\n",
       "        text-align: right;\n",
       "    }\n",
       "</style>\n",
       "<table border=\"1\" class=\"dataframe\">\n",
       "  <thead>\n",
       "    <tr style=\"text-align: right;\">\n",
       "      <th></th>\n",
       "      <th>PR</th>\n",
       "      <th>Age</th>\n",
       "      <th>km</th>\n",
       "      <th>hp</th>\n",
       "      <th>CC</th>\n",
       "      <th>DOORS</th>\n",
       "      <th>GEARS</th>\n",
       "      <th>QTax</th>\n",
       "      <th>WT</th>\n",
       "    </tr>\n",
       "  </thead>\n",
       "  <tbody>\n",
       "    <tr>\n",
       "      <th>0</th>\n",
       "      <td>13500</td>\n",
       "      <td>23</td>\n",
       "      <td>46986</td>\n",
       "      <td>90</td>\n",
       "      <td>2000</td>\n",
       "      <td>3</td>\n",
       "      <td>5</td>\n",
       "      <td>210</td>\n",
       "      <td>1165</td>\n",
       "    </tr>\n",
       "    <tr>\n",
       "      <th>1</th>\n",
       "      <td>13750</td>\n",
       "      <td>23</td>\n",
       "      <td>72937</td>\n",
       "      <td>90</td>\n",
       "      <td>2000</td>\n",
       "      <td>3</td>\n",
       "      <td>5</td>\n",
       "      <td>210</td>\n",
       "      <td>1165</td>\n",
       "    </tr>\n",
       "    <tr>\n",
       "      <th>2</th>\n",
       "      <td>13950</td>\n",
       "      <td>24</td>\n",
       "      <td>41711</td>\n",
       "      <td>90</td>\n",
       "      <td>2000</td>\n",
       "      <td>3</td>\n",
       "      <td>5</td>\n",
       "      <td>210</td>\n",
       "      <td>1165</td>\n",
       "    </tr>\n",
       "    <tr>\n",
       "      <th>3</th>\n",
       "      <td>14950</td>\n",
       "      <td>26</td>\n",
       "      <td>48000</td>\n",
       "      <td>90</td>\n",
       "      <td>2000</td>\n",
       "      <td>3</td>\n",
       "      <td>5</td>\n",
       "      <td>210</td>\n",
       "      <td>1165</td>\n",
       "    </tr>\n",
       "    <tr>\n",
       "      <th>4</th>\n",
       "      <td>13750</td>\n",
       "      <td>30</td>\n",
       "      <td>38500</td>\n",
       "      <td>90</td>\n",
       "      <td>2000</td>\n",
       "      <td>3</td>\n",
       "      <td>5</td>\n",
       "      <td>210</td>\n",
       "      <td>1170</td>\n",
       "    </tr>\n",
       "  </tbody>\n",
       "</table>\n",
       "</div>"
      ],
      "text/plain": [
       "      PR  Age     km  hp    CC  DOORS  GEARS  QTax    WT\n",
       "0  13500   23  46986  90  2000      3      5   210  1165\n",
       "1  13750   23  72937  90  2000      3      5   210  1165\n",
       "2  13950   24  41711  90  2000      3      5   210  1165\n",
       "3  14950   26  48000  90  2000      3      5   210  1165\n",
       "4  13750   30  38500  90  2000      3      5   210  1170"
      ]
     },
     "execution_count": 143,
     "metadata": {},
     "output_type": "execute_result"
    }
   ],
   "source": [
    "df_toyota.head()"
   ]
  },
  {
   "cell_type": "code",
   "execution_count": 144,
   "id": "d3970fb6",
   "metadata": {},
   "outputs": [],
   "source": [
    "data=pd.DataFrame({\"Age\":24,\"km\":41711,\"hp\":90,\"CC\":2000,\"DOORS\":3,\"GEARS\":5,\"QTax\":210,\"WT\":1165},index=[0])"
   ]
  },
  {
   "cell_type": "code",
   "execution_count": 145,
   "id": "6e454cd4",
   "metadata": {},
   "outputs": [
    {
     "data": {
      "text/html": [
       "<div>\n",
       "<style scoped>\n",
       "    .dataframe tbody tr th:only-of-type {\n",
       "        vertical-align: middle;\n",
       "    }\n",
       "\n",
       "    .dataframe tbody tr th {\n",
       "        vertical-align: top;\n",
       "    }\n",
       "\n",
       "    .dataframe thead th {\n",
       "        text-align: right;\n",
       "    }\n",
       "</style>\n",
       "<table border=\"1\" class=\"dataframe\">\n",
       "  <thead>\n",
       "    <tr style=\"text-align: right;\">\n",
       "      <th></th>\n",
       "      <th>Age</th>\n",
       "      <th>km</th>\n",
       "      <th>hp</th>\n",
       "      <th>CC</th>\n",
       "      <th>DOORS</th>\n",
       "      <th>GEARS</th>\n",
       "      <th>QTax</th>\n",
       "      <th>WT</th>\n",
       "    </tr>\n",
       "  </thead>\n",
       "  <tbody>\n",
       "    <tr>\n",
       "      <th>0</th>\n",
       "      <td>24</td>\n",
       "      <td>41711</td>\n",
       "      <td>90</td>\n",
       "      <td>2000</td>\n",
       "      <td>3</td>\n",
       "      <td>5</td>\n",
       "      <td>210</td>\n",
       "      <td>1165</td>\n",
       "    </tr>\n",
       "  </tbody>\n",
       "</table>\n",
       "</div>"
      ],
      "text/plain": [
       "   Age     km  hp    CC  DOORS  GEARS  QTax    WT\n",
       "0   24  41711  90  2000      3      5   210  1165"
      ]
     },
     "execution_count": 145,
     "metadata": {},
     "output_type": "execute_result"
    }
   ],
   "source": [
    "data"
   ]
  },
  {
   "cell_type": "code",
   "execution_count": 146,
   "id": "40cbcdd0",
   "metadata": {},
   "outputs": [
    {
     "data": {
      "text/plain": [
       "0    16779.63521\n",
       "dtype: float64"
      ]
     },
     "execution_count": 146,
     "metadata": {},
     "output_type": "execute_result"
    }
   ],
   "source": [
    "model_toyota.predict(data)"
   ]
  },
  {
   "cell_type": "code",
   "execution_count": 147,
   "id": "e2b1523c",
   "metadata": {},
   "outputs": [
    {
     "data": {
      "text/plain": [
       "0    16601.105243\n",
       "dtype: float64"
      ]
     },
     "execution_count": 147,
     "metadata": {},
     "output_type": "execute_result"
    }
   ],
   "source": [
    "model_qqplot_toyota.predict(data)"
   ]
  },
  {
   "cell_type": "code",
   "execution_count": 148,
   "id": "6ad440a5",
   "metadata": {},
   "outputs": [
    {
     "data": {
      "text/plain": [
       "0    16174.054071\n",
       "dtype: float64"
      ]
     },
     "execution_count": 148,
     "metadata": {},
     "output_type": "execute_result"
    }
   ],
   "source": [
    "model_toyota_cooks_distance.predict(data)"
   ]
  },
  {
   "cell_type": "code",
   "execution_count": 149,
   "id": "472d2841",
   "metadata": {},
   "outputs": [
    {
     "data": {
      "text/plain": [
       "0    16486.949796\n",
       "dtype: float64"
      ]
     },
     "execution_count": 149,
     "metadata": {},
     "output_type": "execute_result"
    }
   ],
   "source": [
    "model_toyota_InfluencePlot.predict(data)"
   ]
  },
  {
   "cell_type": "code",
   "execution_count": 150,
   "id": "82887e33",
   "metadata": {},
   "outputs": [
    {
     "data": {
      "text/plain": [
       "0    18384.052812\n",
       "dtype: float64"
      ]
     },
     "execution_count": 150,
     "metadata": {},
     "output_type": "execute_result"
    }
   ],
   "source": [
    "model_OUT.predict(data)"
   ]
  },
  {
   "cell_type": "code",
   "execution_count": 151,
   "id": "edb5592d",
   "metadata": {},
   "outputs": [
    {
     "data": {
      "text/plain": [
       "0    17095.471692\n",
       "dtype: float64"
      ]
     },
     "execution_count": 151,
     "metadata": {},
     "output_type": "execute_result"
    }
   ],
   "source": [
    "model_toyota_VIF.predict(data)"
   ]
  },
  {
   "cell_type": "markdown",
   "id": "dab4a4ec",
   "metadata": {},
   "source": [
    "### RMSE Method"
   ]
  },
  {
   "cell_type": "code",
   "execution_count": 152,
   "id": "ab2e57d0",
   "metadata": {},
   "outputs": [],
   "source": [
    "from sklearn.metrics import mean_squared_error"
   ]
  },
  {
   "cell_type": "code",
   "execution_count": 153,
   "id": "8cfd74da",
   "metadata": {},
   "outputs": [
    {
     "data": {
      "text/plain": [
       "1337.5902507310752"
      ]
     },
     "execution_count": 153,
     "metadata": {},
     "output_type": "execute_result"
    }
   ],
   "source": [
    "predictions_default=model_toyota.predict(df_toyota)\n",
    "rmse_default=mean_squared_error(df_toyota['PR'],predictions_default,squared=False)\n",
    "rmse_default"
   ]
  },
  {
   "cell_type": "code",
   "execution_count": 154,
   "id": "9a6a643e",
   "metadata": {},
   "outputs": [
    {
     "data": {
      "text/plain": [
       "1192.7364426159018"
      ]
     },
     "execution_count": 154,
     "metadata": {},
     "output_type": "execute_result"
    }
   ],
   "source": [
    "predictions_qqplot=model_qqplot_toyota.predict(df_toyota_qqplot_residual)\n",
    "rmse_qqplot=mean_squared_error(df_toyota_qqplot_residual['PR'],predictions_qqplot,squared=False)\n",
    "rmse_qqplot"
   ]
  },
  {
   "cell_type": "code",
   "execution_count": 155,
   "id": "ee804a28",
   "metadata": {},
   "outputs": [
    {
     "data": {
      "text/plain": [
       "1308.1597166877107"
      ]
     },
     "execution_count": 155,
     "metadata": {},
     "output_type": "execute_result"
    }
   ],
   "source": [
    "predictions_influenceplot=model_toyota_InfluencePlot.predict(toyota_df_Influence_plot)\n",
    "rmse_influenceplot=mean_squared_error(toyota_df_Influence_plot['PR'],predictions_influenceplot,squared=False)\n",
    "rmse_influenceplot"
   ]
  },
  {
   "cell_type": "code",
   "execution_count": 156,
   "id": "642d90de",
   "metadata": {},
   "outputs": [
    {
     "data": {
      "text/plain": [
       "1021.2589617282451"
      ]
     },
     "execution_count": 156,
     "metadata": {},
     "output_type": "execute_result"
    }
   ],
   "source": [
    "predictions_cooksdistance=model_toyota_cooks_distance.predict(toyota_df_cooks_distance)\n",
    "rmse_cooksdistance=mean_squared_error(toyota_df_cooks_distance['PR'],predictions_cooksdistance,squared=False)\n",
    "rmse_cooksdistance"
   ]
  },
  {
   "cell_type": "code",
   "execution_count": 157,
   "id": "a5fca7fb",
   "metadata": {},
   "outputs": [
    {
     "data": {
      "text/plain": [
       "1429.021063247014"
      ]
     },
     "execution_count": 157,
     "metadata": {},
     "output_type": "execute_result"
    }
   ],
   "source": [
    "predictions_NoOutliers=model_OUT.predict(df_toyota_NOUT)\n",
    "rmse_noOutliers=mean_squared_error(df_toyota_NOUT['PR'],predictions_NoOutliers,squared=False)\n",
    "rmse_noOutliers"
   ]
  },
  {
   "cell_type": "code",
   "execution_count": 158,
   "id": "67988255",
   "metadata": {},
   "outputs": [
    {
     "data": {
      "text/plain": [
       "1577.5763327663435"
      ]
     },
     "execution_count": 158,
     "metadata": {},
     "output_type": "execute_result"
    }
   ],
   "source": [
    "predictions_VIF=model_toyota_VIF.predict(df_toyota)\n",
    "rmse_VIF=mean_squared_error(df_toyota['PR'],predictions_VIF,squared=False)\n",
    "rmse_VIF"
   ]
  },
  {
   "cell_type": "code",
   "execution_count": 159,
   "id": "9ec9510b",
   "metadata": {},
   "outputs": [
    {
     "data": {
      "text/html": [
       "<div>\n",
       "<style scoped>\n",
       "    .dataframe tbody tr th:only-of-type {\n",
       "        vertical-align: middle;\n",
       "    }\n",
       "\n",
       "    .dataframe tbody tr th {\n",
       "        vertical-align: top;\n",
       "    }\n",
       "\n",
       "    .dataframe thead th {\n",
       "        text-align: right;\n",
       "    }\n",
       "</style>\n",
       "<table border=\"1\" class=\"dataframe\">\n",
       "  <thead>\n",
       "    <tr style=\"text-align: right;\">\n",
       "      <th></th>\n",
       "      <th>Models</th>\n",
       "      <th>RMSEValues</th>\n",
       "    </tr>\n",
       "  </thead>\n",
       "  <tbody>\n",
       "    <tr>\n",
       "      <th>0</th>\n",
       "      <td>CooksDistance</td>\n",
       "      <td>1021.258962</td>\n",
       "    </tr>\n",
       "    <tr>\n",
       "      <th>1</th>\n",
       "      <td>QQPlot</td>\n",
       "      <td>1192.736443</td>\n",
       "    </tr>\n",
       "    <tr>\n",
       "      <th>2</th>\n",
       "      <td>InfluencePlot</td>\n",
       "      <td>1308.159717</td>\n",
       "    </tr>\n",
       "    <tr>\n",
       "      <th>3</th>\n",
       "      <td>Default</td>\n",
       "      <td>1337.590251</td>\n",
       "    </tr>\n",
       "    <tr>\n",
       "      <th>4</th>\n",
       "      <td>NoOutliers</td>\n",
       "      <td>1429.021063</td>\n",
       "    </tr>\n",
       "    <tr>\n",
       "      <th>5</th>\n",
       "      <td>VIF</td>\n",
       "      <td>1577.576333</td>\n",
       "    </tr>\n",
       "  </tbody>\n",
       "</table>\n",
       "</div>"
      ],
      "text/plain": [
       "          Models   RMSEValues\n",
       "0  CooksDistance  1021.258962\n",
       "1         QQPlot  1192.736443\n",
       "2  InfluencePlot  1308.159717\n",
       "3        Default  1337.590251\n",
       "4     NoOutliers  1429.021063\n",
       "5            VIF  1577.576333"
      ]
     },
     "execution_count": 159,
     "metadata": {},
     "output_type": "execute_result"
    }
   ],
   "source": [
    "RMSE=pd.DataFrame()\n",
    "RMSE[\"Models\"]=[\"CooksDistance\",\"QQPlot\",\"InfluencePlot\",\"Default\",\"NoOutliers\",\"VIF\"]\n",
    "RMSE[\"RMSEValues\"]=[rmse_cooksdistance,rmse_qqplot,rmse_influenceplot,rmse_default,rmse_noOutliers,rmse_VIF]\n",
    "RMSE"
   ]
  },
  {
   "cell_type": "markdown",
   "id": "21444443",
   "metadata": {},
   "source": [
    "### So the best model to choose is the Cooks Distance model without any transformations since it is able to predict that target varaible more closely and it has least RMSE value compared to others and it is able to explain 89.24% of the variability in the Target variable by the independent variables."
   ]
  }
 ],
 "metadata": {
  "kernelspec": {
   "display_name": "Python 3 (ipykernel)",
   "language": "python",
   "name": "python3"
  },
  "language_info": {
   "codemirror_mode": {
    "name": "ipython",
    "version": 3
   },
   "file_extension": ".py",
   "mimetype": "text/x-python",
   "name": "python",
   "nbconvert_exporter": "python",
   "pygments_lexer": "ipython3",
   "version": "3.7.15"
  }
 },
 "nbformat": 4,
 "nbformat_minor": 5
}
